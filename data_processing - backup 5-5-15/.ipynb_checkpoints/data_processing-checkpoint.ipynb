{
 "metadata": {
  "name": "",
  "signature": "sha256:e9925f8ae68726238e2f5f9b4420f56fee9059c53ef71a84cf1cfe27b51ae35f"
 },
 "nbformat": 3,
 "nbformat_minor": 0,
 "worksheets": [
  {
   "cells": [
    {
     "cell_type": "code",
     "collapsed": false,
     "input": [
      "%autosave 60\n",
      "import pandas as pd\n",
      "import numpy as np\n",
      "import matplotlib.pyplot as plt, mpld3\n",
      "import seaborn as sns"
     ],
     "language": "python",
     "metadata": {},
     "outputs": [
      {
       "javascript": [
        "IPython.notebook.set_autosave_interval(60000)"
       ],
       "metadata": {},
       "output_type": "display_data"
      },
      {
       "output_type": "stream",
       "stream": "stdout",
       "text": [
        "Autosaving every 60 seconds\n"
       ]
      }
     ],
     "prompt_number": 1
    },
    {
     "cell_type": "heading",
     "level": 3,
     "metadata": {},
     "source": [
      "Import data"
     ]
    },
    {
     "cell_type": "code",
     "collapsed": false,
     "input": [
      "wars = pd.read_csv('./Inter-StateWarData_v4.0.csv',index_col=0)\n",
      "nmc_raw = pd.read_csv('./NMC_v4_0.csv',index_col=[1,2])\n",
      "nmc = nmc_raw[['cinc']]\n",
      "ccodes = pd.read_csv('./COW country codes.csv', index_col=1).drop_duplicates()"
     ],
     "language": "python",
     "metadata": {},
     "outputs": [],
     "prompt_number": 2
    },
    {
     "cell_type": "heading",
     "level": 3,
     "metadata": {},
     "source": [
      "Add useful fields"
     ]
    },
    {
     "cell_type": "code",
     "collapsed": false,
     "input": [
      "def get_cinc_ratio(warNum):\n",
      "    \n",
      "    year = wars.ix[warNum].StartYear1.irow(0)\n",
      "    initiator = wars.ix[warNum][wars.ix[warNum]['Initiator'] == 1]\n",
      "    defender = wars.ix[warNum][wars.ix[warNum]['Initiator'] == 2]\n",
      "    ratio = nmc.ix[initiator.ccode.irow(0)].ix[year][0] / nmc.ix[defender.ccode.irow(0)].ix[year][0]\n",
      "    return ratio\n",
      "\n",
      "wars['cinc_ratio'] = wars.index.to_series().apply(get_cinc_ratio)"
     ],
     "language": "python",
     "metadata": {},
     "outputs": [],
     "prompt_number": 3
    },
    {
     "cell_type": "code",
     "collapsed": false,
     "input": [
      "wars['StartDate'] = (wars.StartYear1.apply(str) + \"-\" + wars.StartMonth1.apply(str) + \"-\" + wars.StartDay1.apply(str)).apply(pd.Timestamp)\n",
      "wars['EndDate'] = (wars.EndYear1.apply(str) + \"-\" + wars.EndMonth1.apply(str) + \"-\" + wars.EndDay1.apply(str)).apply(pd.Timestamp)\n",
      "wars['length'] = (wars.EndDate - wars.StartDate).dt.days"
     ],
     "language": "python",
     "metadata": {},
     "outputs": [],
     "prompt_number": 4
    },
    {
     "cell_type": "heading",
     "level": 3,
     "metadata": {},
     "source": [
      "Preparing JSON for power ranking"
     ]
    },
    {
     "cell_type": "code",
     "collapsed": false,
     "input": [
      "nmc_n = nmc_raw.reset_index()\n",
      "nmc_n['name'] = nmc_n.apply(lambda x: ccodes.StateNme.ix[x.ccode],axis=1)"
     ],
     "language": "python",
     "metadata": {},
     "outputs": [],
     "prompt_number": 123
    },
    {
     "cell_type": "code",
     "collapsed": false,
     "input": [
      "nmc_n.name.unique()"
     ],
     "language": "python",
     "metadata": {},
     "outputs": [
      {
       "metadata": {},
       "output_type": "pyout",
       "prompt_number": 124,
       "text": [
        "array(['United States of America', 'Canada', 'Bahamas', 'Cuba', 'Haiti',\n",
        "       'Dominican Republic', 'Jamaica', 'Trinidad and Tobago', 'Barbados',\n",
        "       'Dominica', 'Grenada', 'St. Lucia',\n",
        "       'St. Vincent and the Grenadines', 'Antigua & Barbuda',\n",
        "       'St. Kitts and Nevis', 'Mexico', 'Belize', 'Guatemala', 'Honduras',\n",
        "       'El Salvador', 'Nicaragua', 'Costa Rica', 'Panama', 'Colombia',\n",
        "       'Venezuela', 'Guyana', 'Suriname', 'Ecuador', 'Peru', 'Brazil',\n",
        "       'Bolivia', 'Paraguay', 'Chile', 'Argentina', 'Uruguay',\n",
        "       'United Kingdom', 'Ireland', 'Netherlands', 'Belgium', 'Luxembourg',\n",
        "       'France', 'Monaco', 'Liechtenstein', 'Switzerland', 'Spain',\n",
        "       'Andorra', 'Portugal', 'Hanover', 'Bavaria', 'Germany',\n",
        "       'German Federal Republic', 'German Democratic Republic', 'Baden',\n",
        "       'Saxony', 'Wuerttemburg', 'Hesse Electoral', 'Hesse Grand Ducal',\n",
        "       'Mecklenburg Schwerin', 'Poland', 'Austria-Hungary', 'Austria',\n",
        "       'Hungary', 'Czechoslovakia', 'Czech Republic', 'Slovakia', 'Italy',\n",
        "       'Papal States', 'Two Sicilies', 'San Marino', 'Modena', 'Parma',\n",
        "       'Tuscany', 'Malta', 'Albania', 'Montenegro', 'Macedonia', 'Croatia',\n",
        "       'Yugoslavia', 'Bosnia and Herzegovina', 'Slovenia', 'Greece',\n",
        "       'Cyprus', 'Bulgaria', 'Moldova', 'Romania', 'Russia', 'Estonia',\n",
        "       'Latvia', 'Lithuania', 'Ukraine', 'Belarus', 'Armenia', 'Georgia',\n",
        "       'Azerbaijan', 'Finland', 'Sweden', 'Norway', 'Denmark', 'Iceland',\n",
        "       'Cape Verde', 'Sao Tome and Principe', 'Guinea-Bissau',\n",
        "       'Equatorial Guinea', 'Gambia', 'Mali', 'Senegal', 'Benin',\n",
        "       'Mauritania', 'Niger', 'Ivory Coast', 'Guinea', 'Burkina Faso',\n",
        "       'Liberia', 'Sierra Leone', 'Ghana', 'Togo', 'Cameroon', 'Nigeria',\n",
        "       'Gabon', 'Central African Republic', 'Chad', 'Congo',\n",
        "       'Democratic Republic of the Congo', 'Uganda', 'Kenya', 'Tanzania',\n",
        "       'Zanzibar', 'Burundi', 'Rwanda', 'Somalia', 'Djibouti', 'Ethiopia',\n",
        "       'Eritrea', 'Angola', 'Mozambique', 'Zambia', 'Zimbabwe', 'Malawi',\n",
        "       'South Africa', 'Namibia', 'Lesotho', 'Botswana', 'Swaziland',\n",
        "       'Madagascar', 'Comoros', 'Mauritius', 'Seychelles', 'Morocco',\n",
        "       'Algeria', 'Tunisia', 'Libya', 'Sudan', 'Iran', 'Turkey', 'Iraq',\n",
        "       'Egypt', 'Syria', 'Lebanon', 'Jordan', 'Israel', 'Saudi Arabia',\n",
        "       'Yemen Arab Republic', 'Yemen', \"Yemen People's Republic\", 'Kuwait',\n",
        "       'Bahrain', 'Qatar', 'United Arab Emirates', 'Oman', 'Afghanistan',\n",
        "       'Turkmenistan', 'Tajikistan', 'Kyrgyzstan', 'Uzbekistan',\n",
        "       'Kazakhstan', 'China', 'Mongolia', 'Taiwan', 'Korea', 'North Korea',\n",
        "       'South Korea', 'Japan', 'India', 'Bhutan', 'Pakistan', 'Bangladesh',\n",
        "       'Myanmar', 'Sri Lanka', 'Maldives', 'Nepal', 'Thailand', 'Cambodia',\n",
        "       'Laos', 'Vietnam', 'Republic of Vietnam', 'Malaysia', 'Singapore',\n",
        "       'Brunei', 'Philippines', 'Indonesia', 'East Timor', 'Australia',\n",
        "       'Papua New Guinea', 'New Zealand', 'Vanuatu', 'Solomon Islands',\n",
        "       'Kiribati', 'Tuvalu', 'Fiji', 'Tonga', 'Nauru', 'Marshall Islands',\n",
        "       'Palau', 'Federated States of Micronesia', 'Samoa'], dtype=object)"
       ]
      }
     ],
     "prompt_number": 124
    },
    {
     "cell_type": "code",
     "collapsed": false,
     "input": [
      "# There are 2 Vietnams in the data, which can't be properly represented on the map. We only leave 1\n",
      "nmc_n = nmc_n.set_index('name').drop('Republic of Vietnam').reset_index()"
     ],
     "language": "python",
     "metadata": {},
     "outputs": [],
     "prompt_number": 125
    },
    {
     "cell_type": "code",
     "collapsed": false,
     "input": [
      "mapped = pd.read_csv('./countries_on_the_map.csv',sep='\\n').Country"
     ],
     "language": "python",
     "metadata": {},
     "outputs": [],
     "prompt_number": 126
    },
    {
     "cell_type": "code",
     "collapsed": false,
     "input": [
      "countries_on_the_map = set(nmc_n.name.unique()).intersection(set(mapped))\n",
      "data_on_the_map = nmc_n.set_index('name').ix[countries_on_the_map].reset_index()\n",
      "nmc_n = data_on_the_map[data_on_the_map.year > 1945]"
     ],
     "language": "python",
     "metadata": {},
     "outputs": [],
     "prompt_number": 127
    },
    {
     "cell_type": "code",
     "collapsed": false,
     "input": [
      "js = nmc_n.set_index(['year'])[['stateabb','name','cinc']]\n",
      "def countries(year):\n",
      "    return js.loc[year].to_json(orient='records')"
     ],
     "language": "python",
     "metadata": {},
     "outputs": [],
     "prompt_number": 128
    },
    {
     "cell_type": "code",
     "collapsed": false,
     "input": [
      "result = '['\n",
      "for ind in js.index.unique():\n",
      "    result = result + '{\"year\":' + str(ind) + ',\"countries\":' + countries(ind) + \"},\\n\"\n",
      "result = result[:-2] + ']'"
     ],
     "language": "python",
     "metadata": {},
     "outputs": [],
     "prompt_number": 129
    },
    {
     "cell_type": "code",
     "collapsed": false,
     "input": [
      "f = open('./power_rank.json', 'w')\n",
      "f.write(result)\n",
      "f.close()"
     ],
     "language": "python",
     "metadata": {},
     "outputs": [
      {
       "ename": "IOError",
       "evalue": "[Errno 2] No such file or directory: '././data/power_rank.json'",
       "output_type": "pyerr",
       "traceback": [
        "\u001b[1;31m---------------------------------------------------------------------------\u001b[0m\n\u001b[1;31mIOError\u001b[0m                                   Traceback (most recent call last)",
        "\u001b[1;32m<ipython-input-131-6951a583c401>\u001b[0m in \u001b[0;36m<module>\u001b[1;34m()\u001b[0m\n\u001b[1;32m----> 1\u001b[1;33m \u001b[0mf\u001b[0m \u001b[1;33m=\u001b[0m \u001b[0mopen\u001b[0m\u001b[1;33m(\u001b[0m\u001b[1;34m'././data/power_rank.json'\u001b[0m\u001b[1;33m,\u001b[0m \u001b[1;34m'w'\u001b[0m\u001b[1;33m)\u001b[0m\u001b[1;33m\u001b[0m\u001b[0m\n\u001b[0m\u001b[0;32m      2\u001b[0m \u001b[0mf\u001b[0m\u001b[1;33m.\u001b[0m\u001b[0mwrite\u001b[0m\u001b[1;33m(\u001b[0m\u001b[0mresult\u001b[0m\u001b[1;33m)\u001b[0m\u001b[1;33m\u001b[0m\u001b[0m\n\u001b[0;32m      3\u001b[0m \u001b[0mf\u001b[0m\u001b[1;33m.\u001b[0m\u001b[0mclose\u001b[0m\u001b[1;33m(\u001b[0m\u001b[1;33m)\u001b[0m\u001b[1;33m\u001b[0m\u001b[0m\n",
        "\u001b[1;31mIOError\u001b[0m: [Errno 2] No such file or directory: '././data/power_rank.json'"
       ]
      }
     ],
     "prompt_number": 131
    },
    {
     "cell_type": "heading",
     "level": 1,
     "metadata": {},
     "source": [
      "milex"
     ]
    },
    {
     "cell_type": "code",
     "collapsed": false,
     "input": [
      "# Pakistan 0 in 1947? how is that possible? There was Indo-Pakistani war in 1947\n",
      "milex = nmc_n[['milex','year','name']]\n",
      "milex.loc[(milex.milex == -9),'milex'] = 0"
     ],
     "language": "python",
     "metadata": {},
     "outputs": [],
     "prompt_number": 113
    },
    {
     "cell_type": "heading",
     "level": 1,
     "metadata": {},
     "source": [
      "Alliances"
     ]
    },
    {
     "cell_type": "code",
     "collapsed": false,
     "input": [
      "alliance_raw = pd.read_csv('./cow_alliances/version4.1_csv/alliance_v4.1_by_dyad_yearly.csv')\n",
      "\n",
      "cols = ['left_censor','right_censor','defense','neutrality','nonaggression','entente','year','state_name1','state_name2']\n",
      "a = alliance_raw[cols]"
     ],
     "language": "python",
     "metadata": {},
     "outputs": [],
     "prompt_number": 18
    },
    {
     "cell_type": "code",
     "collapsed": false,
     "input": [
      "a = a[a.year > 1945]"
     ],
     "language": "python",
     "metadata": {},
     "outputs": [],
     "prompt_number": 20
    },
    {
     "cell_type": "code",
     "collapsed": false,
     "input": [],
     "language": "python",
     "metadata": {},
     "outputs": [],
     "prompt_number": 34
    },
    {
     "cell_type": "code",
     "collapsed": false,
     "input": [],
     "language": "python",
     "metadata": {},
     "outputs": []
    }
   ],
   "metadata": {}
  }
 ]
}