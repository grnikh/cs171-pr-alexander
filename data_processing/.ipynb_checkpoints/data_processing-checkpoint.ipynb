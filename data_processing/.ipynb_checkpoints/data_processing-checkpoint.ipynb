{
 "metadata": {
  "name": "",
  "signature": "sha256:5bf6cf7070bf5ce73557c97c741359bfbde8f433ae98fe21168dfbfad57e2538"
 },
 "nbformat": 3,
 "nbformat_minor": 0,
 "worksheets": [
  {
   "cells": [
    {
     "cell_type": "code",
     "collapsed": false,
     "input": [
      "%autosave 60\n",
      "import pandas as pd\n",
      "import numpy as np\n",
      "import matplotlib.pyplot as plt, mpld3\n",
      "import seaborn as sns"
     ],
     "language": "python",
     "metadata": {},
     "outputs": [
      {
       "javascript": [
        "IPython.notebook.set_autosave_interval(60000)"
       ],
       "metadata": {},
       "output_type": "display_data"
      },
      {
       "output_type": "stream",
       "stream": "stdout",
       "text": [
        "Autosaving every 60 seconds\n"
       ]
      }
     ],
     "prompt_number": 291
    },
    {
     "cell_type": "heading",
     "level": 3,
     "metadata": {},
     "source": [
      "Import data"
     ]
    },
    {
     "cell_type": "code",
     "collapsed": false,
     "input": [
      "wars = pd.read_csv('./Inter-StateWarData_v4.0.csv',index_col=0)\n",
      "nmc_raw = pd.read_csv('./NMC_v4_0.csv',index_col=[1,2])\n",
      "ccodes = pd.read_csv('./COW country codes.csv', index_col=1).drop_duplicates()\n",
      "main_raw = pd.read_excel('./Main Conflict Table.xls', sheetname='Blad1')\n",
      "sites_raw = pd.read_excel('./ConflictSite 4-2010_v3 Dataset.xls', sheetname='Sheet1')\n",
      "deaths_raw = pd.read_excel('./deaths.xls', sheetname='bdonly')"
     ],
     "language": "python",
     "metadata": {},
     "outputs": [],
     "prompt_number": 292
    },
    {
     "cell_type": "heading",
     "level": 1,
     "metadata": {},
     "source": [
      "Death"
     ]
    },
    {
     "cell_type": "code",
     "collapsed": false,
     "input": [
      "d = deaths_raw\n",
      "d['death'] = 'NaN'\n",
      "# for those cases, when the best estimate of deaths is not available, we are using the mean of high and low estimates\n",
      "\n",
      "est = ((d[d.bdeadbes == -999].bdeadlow + d[d.bdeadbes == -999].bdeadhig) / 2).apply(int)\n",
      "\n",
      "d.loc[est.index,'death'] = est\n",
      "est2 = d[d.bdeadbes != -999].bdeadbes\n",
      "d.loc[est2.index,'death'] = est2\n",
      "\n",
      "#death_cleaned\n",
      "d_c = d[['year','death','id','location','sidea','sideb']]\n",
      "\n",
      "#death_yearly\n",
      "d_y = pd.Series(index=d_c.year.apply(int).unique())\n",
      "\n",
      "for ind in d_y.index:\n",
      "    d_y[ind] = d_c[d_c.year == ind].death.sum()\n",
      "    \n",
      "d_y = d_y.sort_index()\n",
      "\n",
      "d_y.plot()\n",
      "mpld3.display()"
     ],
     "language": "python",
     "metadata": {},
     "outputs": [
      {
       "html": [
        "\n",
        "\n",
        "<style>\n",
        "\n",
        "</style>\n",
        "\n",
        "<div id=\"fig_el18324058435846962223254\"></div>\n",
        "<script>\n",
        "function mpld3_load_lib(url, callback){\n",
        "  var s = document.createElement('script');\n",
        "  s.src = url;\n",
        "  s.async = true;\n",
        "  s.onreadystatechange = s.onload = callback;\n",
        "  s.onerror = function(){console.warn(\"failed to load library \" + url);};\n",
        "  document.getElementsByTagName(\"head\")[0].appendChild(s);\n",
        "}\n",
        "\n",
        "if(typeof(mpld3) !== \"undefined\" && mpld3._mpld3IsLoaded){\n",
        "   // already loaded: just create the figure\n",
        "   !function(mpld3){\n",
        "       \n",
        "       mpld3.draw_figure(\"fig_el18324058435846962223254\", {\"axes\": [{\"xlim\": [1946.0, 2008.0], \"yscale\": \"linear\", \"axesbg\": \"#EAEAF2\", \"texts\": [], \"zoomable\": true, \"images\": [], \"xdomain\": [1946.0, 2008.0], \"ylim\": [0.0, 600000.0], \"paths\": [], \"sharey\": [], \"sharex\": [], \"axesbgalpha\": null, \"axes\": [{\"scale\": \"linear\", \"tickformat\": null, \"grid\": {\"color\": \"#FFFFFF\", \"alpha\": 1.0, \"dasharray\": \"10,0\", \"gridOn\": true}, \"fontsize\": 10.0, \"position\": \"bottom\", \"nticks\": 8, \"tickvalues\": null}, {\"scale\": \"linear\", \"tickformat\": null, \"grid\": {\"color\": \"#FFFFFF\", \"alpha\": 1.0, \"dasharray\": \"10,0\", \"gridOn\": true}, \"fontsize\": 10.0, \"position\": \"left\", \"nticks\": 7, \"tickvalues\": null}], \"lines\": [{\"color\": \"#4C72B0\", \"yindex\": 1, \"coordinates\": \"data\", \"dasharray\": \"10,0\", \"zorder\": 2, \"alpha\": 1, \"xindex\": 0, \"linewidth\": 1.75, \"data\": \"data01\", \"id\": \"el1832601287984\"}], \"markers\": [], \"id\": \"el1832605006928\", \"ydomain\": [0.0, 600000.0], \"collections\": [], \"xscale\": \"linear\", \"bbox\": [0.125, 0.099999999999999978, 0.77500000000000002, 0.80000000000000004]}], \"height\": 440.0, \"width\": 640.0, \"plugins\": [{\"type\": \"reset\"}, {\"enabled\": false, \"button\": true, \"type\": \"zoom\"}, {\"enabled\": false, \"button\": true, \"type\": \"boxzoom\"}], \"data\": {\"data01\": [[1946.0, 299621.0], [1947.0, 415334.0], [1948.0, 487297.0], [1949.0, 465304.0], [1950.0, 596084.0], [1951.0, 404949.0], [1952.0, 154144.0], [1953.0, 103056.0], [1954.0, 72985.0], [1955.0, 35282.0], [1956.0, 43581.0], [1957.0, 35424.0], [1958.0, 51785.0], [1959.0, 55598.0], [1960.0, 153963.0], [1961.0, 173335.0], [1962.0, 85581.0], [1963.0, 87488.0], [1964.0, 91166.0], [1965.0, 126800.0], [1966.0, 124515.0], [1967.0, 155606.0], [1968.0, 266227.0], [1969.0, 230692.0], [1970.0, 242449.0], [1971.0, 379406.0], [1972.0, 319973.0], [1973.0, 242079.0], [1974.0, 280062.0], [1975.0, 153480.0], [1976.0, 121282.0], [1977.0, 60816.0], [1978.0, 117953.0], [1979.0, 169339.0], [1980.0, 142333.0], [1981.0, 217181.0], [1982.0, 269537.0], [1983.0, 251904.0], [1984.0, 268176.0], [1985.0, 241801.0], [1986.0, 251407.0], [1987.0, 210626.0], [1988.0, 267463.0], [1989.0, 86041.0], [1990.0, 96591.0], [1991.0, 154049.0], [1992.0, 101478.0], [1993.0, 104188.0], [1994.0, 88792.0], [1995.0, 77228.0], [1996.0, 56835.0], [1997.0, 46441.0], [1998.0, 99875.0], [1999.0, 134184.0], [2000.0, 92481.0], [2001.0, 78725.0], [2002.0, 27592.0], [2003.0, 35341.0], [2004.0, 38800.0], [2005.0, 38663.0], [2006.0, 58902.0], [2007.0, 63549.0], [2008.0, 49662.0]]}, \"id\": \"el1832405843584\"});\n",
        "   }(mpld3);\n",
        "}else if(typeof define === \"function\" && define.amd){\n",
        "   // require.js is available: use it to load d3/mpld3\n",
        "   require.config({paths: {d3: \"https://mpld3.github.io/js/d3.v3.min\"}});\n",
        "   require([\"d3\"], function(d3){\n",
        "      window.d3 = d3;\n",
        "      mpld3_load_lib(\"https://mpld3.github.io/js/mpld3.v0.2.js\", function(){\n",
        "         \n",
        "         mpld3.draw_figure(\"fig_el18324058435846962223254\", {\"axes\": [{\"xlim\": [1946.0, 2008.0], \"yscale\": \"linear\", \"axesbg\": \"#EAEAF2\", \"texts\": [], \"zoomable\": true, \"images\": [], \"xdomain\": [1946.0, 2008.0], \"ylim\": [0.0, 600000.0], \"paths\": [], \"sharey\": [], \"sharex\": [], \"axesbgalpha\": null, \"axes\": [{\"scale\": \"linear\", \"tickformat\": null, \"grid\": {\"color\": \"#FFFFFF\", \"alpha\": 1.0, \"dasharray\": \"10,0\", \"gridOn\": true}, \"fontsize\": 10.0, \"position\": \"bottom\", \"nticks\": 8, \"tickvalues\": null}, {\"scale\": \"linear\", \"tickformat\": null, \"grid\": {\"color\": \"#FFFFFF\", \"alpha\": 1.0, \"dasharray\": \"10,0\", \"gridOn\": true}, \"fontsize\": 10.0, \"position\": \"left\", \"nticks\": 7, \"tickvalues\": null}], \"lines\": [{\"color\": \"#4C72B0\", \"yindex\": 1, \"coordinates\": \"data\", \"dasharray\": \"10,0\", \"zorder\": 2, \"alpha\": 1, \"xindex\": 0, \"linewidth\": 1.75, \"data\": \"data01\", \"id\": \"el1832601287984\"}], \"markers\": [], \"id\": \"el1832605006928\", \"ydomain\": [0.0, 600000.0], \"collections\": [], \"xscale\": \"linear\", \"bbox\": [0.125, 0.099999999999999978, 0.77500000000000002, 0.80000000000000004]}], \"height\": 440.0, \"width\": 640.0, \"plugins\": [{\"type\": \"reset\"}, {\"enabled\": false, \"button\": true, \"type\": \"zoom\"}, {\"enabled\": false, \"button\": true, \"type\": \"boxzoom\"}], \"data\": {\"data01\": [[1946.0, 299621.0], [1947.0, 415334.0], [1948.0, 487297.0], [1949.0, 465304.0], [1950.0, 596084.0], [1951.0, 404949.0], [1952.0, 154144.0], [1953.0, 103056.0], [1954.0, 72985.0], [1955.0, 35282.0], [1956.0, 43581.0], [1957.0, 35424.0], [1958.0, 51785.0], [1959.0, 55598.0], [1960.0, 153963.0], [1961.0, 173335.0], [1962.0, 85581.0], [1963.0, 87488.0], [1964.0, 91166.0], [1965.0, 126800.0], [1966.0, 124515.0], [1967.0, 155606.0], [1968.0, 266227.0], [1969.0, 230692.0], [1970.0, 242449.0], [1971.0, 379406.0], [1972.0, 319973.0], [1973.0, 242079.0], [1974.0, 280062.0], [1975.0, 153480.0], [1976.0, 121282.0], [1977.0, 60816.0], [1978.0, 117953.0], [1979.0, 169339.0], [1980.0, 142333.0], [1981.0, 217181.0], [1982.0, 269537.0], [1983.0, 251904.0], [1984.0, 268176.0], [1985.0, 241801.0], [1986.0, 251407.0], [1987.0, 210626.0], [1988.0, 267463.0], [1989.0, 86041.0], [1990.0, 96591.0], [1991.0, 154049.0], [1992.0, 101478.0], [1993.0, 104188.0], [1994.0, 88792.0], [1995.0, 77228.0], [1996.0, 56835.0], [1997.0, 46441.0], [1998.0, 99875.0], [1999.0, 134184.0], [2000.0, 92481.0], [2001.0, 78725.0], [2002.0, 27592.0], [2003.0, 35341.0], [2004.0, 38800.0], [2005.0, 38663.0], [2006.0, 58902.0], [2007.0, 63549.0], [2008.0, 49662.0]]}, \"id\": \"el1832405843584\"});\n",
        "      });\n",
        "    });\n",
        "}else{\n",
        "    // require.js not available: dynamically load d3 & mpld3\n",
        "    mpld3_load_lib(\"https://mpld3.github.io/js/d3.v3.min.js\", function(){\n",
        "         mpld3_load_lib(\"https://mpld3.github.io/js/mpld3.v0.2.js\", function(){\n",
        "                 \n",
        "                 mpld3.draw_figure(\"fig_el18324058435846962223254\", {\"axes\": [{\"xlim\": [1946.0, 2008.0], \"yscale\": \"linear\", \"axesbg\": \"#EAEAF2\", \"texts\": [], \"zoomable\": true, \"images\": [], \"xdomain\": [1946.0, 2008.0], \"ylim\": [0.0, 600000.0], \"paths\": [], \"sharey\": [], \"sharex\": [], \"axesbgalpha\": null, \"axes\": [{\"scale\": \"linear\", \"tickformat\": null, \"grid\": {\"color\": \"#FFFFFF\", \"alpha\": 1.0, \"dasharray\": \"10,0\", \"gridOn\": true}, \"fontsize\": 10.0, \"position\": \"bottom\", \"nticks\": 8, \"tickvalues\": null}, {\"scale\": \"linear\", \"tickformat\": null, \"grid\": {\"color\": \"#FFFFFF\", \"alpha\": 1.0, \"dasharray\": \"10,0\", \"gridOn\": true}, \"fontsize\": 10.0, \"position\": \"left\", \"nticks\": 7, \"tickvalues\": null}], \"lines\": [{\"color\": \"#4C72B0\", \"yindex\": 1, \"coordinates\": \"data\", \"dasharray\": \"10,0\", \"zorder\": 2, \"alpha\": 1, \"xindex\": 0, \"linewidth\": 1.75, \"data\": \"data01\", \"id\": \"el1832601287984\"}], \"markers\": [], \"id\": \"el1832605006928\", \"ydomain\": [0.0, 600000.0], \"collections\": [], \"xscale\": \"linear\", \"bbox\": [0.125, 0.099999999999999978, 0.77500000000000002, 0.80000000000000004]}], \"height\": 440.0, \"width\": 640.0, \"plugins\": [{\"type\": \"reset\"}, {\"enabled\": false, \"button\": true, \"type\": \"zoom\"}, {\"enabled\": false, \"button\": true, \"type\": \"boxzoom\"}], \"data\": {\"data01\": [[1946.0, 299621.0], [1947.0, 415334.0], [1948.0, 487297.0], [1949.0, 465304.0], [1950.0, 596084.0], [1951.0, 404949.0], [1952.0, 154144.0], [1953.0, 103056.0], [1954.0, 72985.0], [1955.0, 35282.0], [1956.0, 43581.0], [1957.0, 35424.0], [1958.0, 51785.0], [1959.0, 55598.0], [1960.0, 153963.0], [1961.0, 173335.0], [1962.0, 85581.0], [1963.0, 87488.0], [1964.0, 91166.0], [1965.0, 126800.0], [1966.0, 124515.0], [1967.0, 155606.0], [1968.0, 266227.0], [1969.0, 230692.0], [1970.0, 242449.0], [1971.0, 379406.0], [1972.0, 319973.0], [1973.0, 242079.0], [1974.0, 280062.0], [1975.0, 153480.0], [1976.0, 121282.0], [1977.0, 60816.0], [1978.0, 117953.0], [1979.0, 169339.0], [1980.0, 142333.0], [1981.0, 217181.0], [1982.0, 269537.0], [1983.0, 251904.0], [1984.0, 268176.0], [1985.0, 241801.0], [1986.0, 251407.0], [1987.0, 210626.0], [1988.0, 267463.0], [1989.0, 86041.0], [1990.0, 96591.0], [1991.0, 154049.0], [1992.0, 101478.0], [1993.0, 104188.0], [1994.0, 88792.0], [1995.0, 77228.0], [1996.0, 56835.0], [1997.0, 46441.0], [1998.0, 99875.0], [1999.0, 134184.0], [2000.0, 92481.0], [2001.0, 78725.0], [2002.0, 27592.0], [2003.0, 35341.0], [2004.0, 38800.0], [2005.0, 38663.0], [2006.0, 58902.0], [2007.0, 63549.0], [2008.0, 49662.0]]}, \"id\": \"el1832405843584\"});\n",
        "            })\n",
        "         });\n",
        "}\n",
        "</script>"
       ],
       "metadata": {},
       "output_type": "pyout",
       "prompt_number": 295,
       "text": [
        "<IPython.core.display.HTML at 0x2f272a90>"
       ]
      }
     ],
     "prompt_number": 295
    },
    {
     "cell_type": "heading",
     "level": 1,
     "metadata": {},
     "source": [
      "JSON output for death"
     ]
    },
    {
     "cell_type": "code",
     "collapsed": false,
     "input": [
      "d_js = pd.DataFrame(columns=['year','deaths'])\n",
      "d_js.year = d_y.index\n",
      "d_js.deaths = d_y.values\n",
      "d_js.head()\n",
      "d_js.set_index('year').plot()\n",
      "mpld3.display()\n",
      "d_js.to_json('./deaths.json',orient='records')"
     ],
     "language": "python",
     "metadata": {},
     "outputs": [],
     "prompt_number": 296
    },
    {
     "cell_type": "heading",
     "level": 1,
     "metadata": {},
     "source": [
      "Blips"
     ]
    },
    {
     "cell_type": "code",
     "collapsed": false,
     "input": [
      "s = sites_raw[['Year','Latitude','Longitude','Radius','Conflict territory']]\n",
      "s = s[s.Latitude != -888]\n",
      "s.to_json('./blips.json',orient='records')"
     ],
     "language": "python",
     "metadata": {},
     "outputs": [],
     "prompt_number": 297
    },
    {
     "cell_type": "heading",
     "level": 1,
     "metadata": {},
     "source": [
      "Countries at war at given year"
     ]
    },
    {
     "cell_type": "code",
     "collapsed": false,
     "input": [
      "w = main_raw[['SideA','SideB', 'StartDate', 'EpEndDate','YEAR','EpEnd']]\n",
      "years = w.sort('YEAR').YEAR.unique()\n",
      "mapped = set(pd.read_csv('./countries_on_the_map.csv',sep='\\n').Country)\n",
      "w.loc[w.SideA.isin(mapped).apply(lambda x: not x)].SideA.unique()"
     ],
     "language": "python",
     "metadata": {},
     "outputs": [
      {
       "metadata": {},
       "output_type": "pyout",
       "prompt_number": 298,
       "text": [
        "array([u'Russia (Soviet Union)', u'Hyderabad', u'North Yemen ',\n",
        "       u'South Vietnam', u'France, Israel, United Kingdom',\n",
        "       u'Democratic Republic of Congo (Zaire) ', u'North Vietnam',\n",
        "       u'Syria ', u'Sri Lanka (Ceylon)', u'Zimbabwe (Rhodesia)',\n",
        "       u'North Yemen', u'Turkey/Ottoman Empire', u'South Yemen',\n",
        "       u'Rumania', u'Yugoslavia (Serbia)', u'Yemen ', u'Cote D\\u2019Ivoire'], dtype=object)"
       ]
      }
     ],
     "prompt_number": 298
    },
    {
     "cell_type": "code",
     "collapsed": false,
     "input": [
      "w = w.replace('Russia (Soviet Union)', 'Russia')\n",
      "w = w.replace('Hyderabad', 'India')\n",
      "w = w.replace('North Yemen ', 'Yemen')\n",
      "w = w.replace('North Yemen', 'Yemen')\n",
      "w = w.replace('South Yemen ', 'Yemen')\n",
      "w = w.replace('South Yemen', 'Yemen')\n",
      "w = w.replace('Democratic Republic of Congo (Zaire) ', 'Congo')\n",
      "w = w.replace('North Vietnam', 'Vietnam')\n",
      "w = w.replace('South Vietnam', 'Vietnam')\n",
      "\n",
      "w = w.replace('Syria ','Syria')\n",
      "w = w.replace('Sri Lanka (Ceylon)','Sri Lanka')\n",
      "w = w.replace('Zimbabwe (Rhodesia)','Zimbabwe')\n",
      "w = w.replace('Rumania','Romania')\n",
      "\n",
      "\n",
      "w = w.replace('Turkey/Ottoman Empire','Turkey')\n",
      "w = w.replace('Yugoslavia (Serbia)','Serbia')\n",
      "w = w.replace('Yemen ','Yemen')"
     ],
     "language": "python",
     "metadata": {},
     "outputs": [],
     "prompt_number": 299
    },
    {
     "cell_type": "code",
     "collapsed": false,
     "input": [
      "result = \"\"\n",
      "result += '['\n",
      "\n",
      "for year in years:\n",
      "    result += '{' + '\"year\":' + str(year) + ','\n",
      "    result += '\"enemies\":' + w[w.YEAR == year][['SideA','SideB']].to_json(orient='records') + '},'\n",
      "\n",
      "result = result[:-1] + ']'\n",
      "\n",
      "f = open('./at_war.json', 'w')\n",
      "f.write(result.encode('utf-8'))\n",
      "f.close()"
     ],
     "language": "python",
     "metadata": {},
     "outputs": [],
     "prompt_number": 300
    },
    {
     "cell_type": "heading",
     "level": 1,
     "metadata": {},
     "source": [
      "Lat Long of capitals (from HW 2)"
     ]
    },
    {
     "cell_type": "code",
     "collapsed": false,
     "input": [
      "ll = pd.read_json('./countries_2012.json')\n",
      "ll.shape\n",
      "len(set(ll.name).intersection(mapped))\n",
      "ll_mapped = ll.set_index('name').ix[list(set(ll.name).intersection(mapped))]\n",
      "\n",
      "ll_mapped[['latitude','longitude']].reset_index().to_json('../latlong.json',orient=\"records\")"
     ],
     "language": "python",
     "metadata": {},
     "outputs": [],
     "prompt_number": 301
    },
    {
     "cell_type": "heading",
     "level": 3,
     "metadata": {},
     "source": [
      "Preparing JSON for power ranking"
     ]
    },
    {
     "cell_type": "code",
     "collapsed": false,
     "input": [
      "nmc = nmc_raw[['cinc']]\n",
      "\n",
      "def get_cinc_ratio(warNum):\n",
      "    \n",
      "    year = wars.ix[warNum].StartYear1.irow(0)\n",
      "    initiator = wars.ix[warNum][wars.ix[warNum]['Initiator'] == 1]\n",
      "    defender = wars.ix[warNum][wars.ix[warNum]['Initiator'] == 2]\n",
      "    ratio = nmc.ix[initiator.ccode.irow(0)].ix[year][0] / nmc.ix[defender.ccode.irow(0)].ix[year][0]\n",
      "    return ratio\n",
      "\n",
      "wars['cinc_ratio'] = wars.index.to_series().apply(get_cinc_ratio)\n",
      "\n",
      "wars['StartDate'] = (wars.StartYear1.apply(str) + \"-\" + wars.StartMonth1.apply(str) + \"-\" + wars.StartDay1.apply(str)).apply(pd.Timestamp)\n",
      "wars['EndDate'] = (wars.EndYear1.apply(str) + \"-\" + wars.EndMonth1.apply(str) + \"-\" + wars.EndDay1.apply(str)).apply(pd.Timestamp)\n",
      "wars['length'] = (wars.EndDate - wars.StartDate).dt.days"
     ],
     "language": "python",
     "metadata": {},
     "outputs": [],
     "prompt_number": 293
    },
    {
     "cell_type": "code",
     "collapsed": false,
     "input": [
      "nmc_n = nmc_raw.reset_index()\n",
      "nmc_n['name'] = nmc_n.apply(lambda x: ccodes.StateNme.ix[x.ccode],axis=1)"
     ],
     "language": "python",
     "metadata": {},
     "outputs": [],
     "prompt_number": 302
    },
    {
     "cell_type": "code",
     "collapsed": false,
     "input": [
      "# There are 2 Vietnams in the data, which can't be properly represented on the map. We only leave 1\n",
      "nmc_n = nmc_n.set_index('name').drop('Republic of Vietnam').reset_index()"
     ],
     "language": "python",
     "metadata": {},
     "outputs": [],
     "prompt_number": 303
    },
    {
     "cell_type": "code",
     "collapsed": false,
     "input": [
      "mapped = pd.read_csv('./countries_on_the_map.csv',sep='\\n').Country"
     ],
     "language": "python",
     "metadata": {},
     "outputs": [],
     "prompt_number": 304
    },
    {
     "cell_type": "code",
     "collapsed": false,
     "input": [
      "countries_on_the_map = set(nmc_n.name.unique()).intersection(set(mapped))\n",
      "data_on_the_map = nmc_n.set_index('name').ix[countries_on_the_map].reset_index()\n",
      "nmc_n = data_on_the_map[data_on_the_map.year > 1945]"
     ],
     "language": "python",
     "metadata": {},
     "outputs": [],
     "prompt_number": 305
    },
    {
     "cell_type": "code",
     "collapsed": false,
     "input": [
      "js = nmc_n.set_index(['year'])[['stateabb','name','cinc']]\n",
      "def countries(year):\n",
      "    return js.loc[year].to_json(orient='records')"
     ],
     "language": "python",
     "metadata": {},
     "outputs": [],
     "prompt_number": 306
    },
    {
     "cell_type": "code",
     "collapsed": false,
     "input": [
      "result = '['\n",
      "for ind in js.index.unique():\n",
      "    result = result + '{\"year\":' + str(ind) + ',\"countries\":' + countries(ind) + \"},\\n\"\n",
      "result = result[:-2] + ']'"
     ],
     "language": "python",
     "metadata": {},
     "outputs": [],
     "prompt_number": 307
    },
    {
     "cell_type": "code",
     "collapsed": false,
     "input": [
      "f = open('./power_rank.json', 'w')\n",
      "f.write(result)\n",
      "f.close()"
     ],
     "language": "python",
     "metadata": {},
     "outputs": [],
     "prompt_number": 308
    },
    {
     "cell_type": "code",
     "collapsed": false,
     "input": [
      "nmc_n.name.unique()"
     ],
     "language": "python",
     "metadata": {},
     "outputs": [
      {
       "metadata": {},
       "output_type": "pyout",
       "prompt_number": 309,
       "text": [
        "array(['Canada', 'Sao Tome and Principe', 'Turkmenistan', 'Montenegro',\n",
        "       'Lithuania', 'Cambodia', 'Ethiopia', 'Swaziland', 'Argentina',\n",
        "       'Bolivia', 'Cameroon', 'Burkina Faso', 'Ghana', 'Saudi Arabia',\n",
        "       'Cape Verde', 'Slovenia', 'Guatemala', 'Bosnia and Herzegovina',\n",
        "       'Guinea', 'Germany', 'Dominica', 'Liberia', 'Netherlands',\n",
        "       'Paraguay', 'Pakistan', 'Oman', 'Tanzania', 'Gabon', 'Monaco',\n",
        "       'Bahamas', 'New Zealand', 'Yemen', 'Jamaica', 'Albania', 'Samoa',\n",
        "       'United Arab Emirates', 'India', 'Azerbaijan', 'Madagascar',\n",
        "       'Lesotho', 'Cyprus', 'Tajikistan', 'Turkey', 'Afghanistan',\n",
        "       'Czech Republic', 'Mauritania', 'Solomon Islands', 'San Marino',\n",
        "       'Mongolia', 'France', 'Rwanda', 'Slovakia', 'Somalia', 'Peru',\n",
        "       'Laos', 'Nauru', 'Norway', 'Malawi', 'Benin',\n",
        "       'Federated States of Micronesia', 'Cuba',\n",
        "       'United States of America', 'Togo', 'China', 'Armenia',\n",
        "       'Dominican Republic', 'Ukraine', 'Bahrain', 'Tonga', 'Indonesia',\n",
        "       'Libya', 'Finland', 'Central African Republic', 'Mauritius',\n",
        "       'Liechtenstein', 'Vietnam', 'Mali', 'Russia', 'Bulgaria', 'Romania',\n",
        "       'Angola', 'Portugal', 'South Africa', 'Nicaragua', 'Sweden',\n",
        "       'Malaysia', 'Austria', 'Mozambique', 'Uganda', 'Japan', 'Niger',\n",
        "       'Brazil', 'Kuwait', 'Panama', 'Guyana', 'Costa Rica', 'Luxembourg',\n",
        "       'Andorra', 'Ireland', 'Syria', 'Italy', 'Nigeria', 'Ecuador',\n",
        "       'Bangladesh', 'Australia', 'Iran', 'Algeria', 'El Salvador',\n",
        "       'Marshall Islands', 'Chile', 'Belgium', 'Thailand', 'Haiti',\n",
        "       'Belize', 'Sierra Leone', 'Georgia', 'Denmark', 'Poland', 'Moldova',\n",
        "       'Morocco', 'Croatia', 'Guinea-Bissau', 'Kiribati', 'Switzerland',\n",
        "       'Grenada', 'Seychelles', 'Chad', 'Estonia', 'Uruguay', 'Mexico',\n",
        "       'Lebanon', 'Uzbekistan', 'Tunisia', 'Djibouti', 'Spain', 'Colombia',\n",
        "       'Burundi', 'Fiji', 'Barbados', 'Qatar', 'Palau', 'Bhutan', 'Kenya',\n",
        "       'Sudan', 'Nepal', 'Malta', 'Maldives', 'Venezuela', 'Israel',\n",
        "       'Iceland', 'Zambia', 'Senegal', 'Papua New Guinea', 'Zimbabwe',\n",
        "       'Jordan', 'Vanuatu', 'Gambia', 'Kazakhstan', 'Philippines',\n",
        "       'Eritrea', 'Kyrgyzstan', 'Iraq', 'Macedonia', 'North Korea',\n",
        "       'Trinidad and Tobago', 'Latvia', 'Hungary', 'Belarus', 'Honduras',\n",
        "       'Myanmar', 'Equatorial Guinea', 'Egypt', 'Singapore', 'Comoros',\n",
        "       'United Kingdom', 'Congo', 'Greece', 'Sri Lanka', 'Namibia',\n",
        "       'Botswana'], dtype=object)"
       ]
      }
     ],
     "prompt_number": 309
    },
    {
     "cell_type": "heading",
     "level": 1,
     "metadata": {},
     "source": [
      "milex"
     ]
    },
    {
     "cell_type": "code",
     "collapsed": false,
     "input": [
      "# Pakistan 0 in 1947? how is that possible? There was Indo-Pakistani war in 1947\n",
      "milex = nmc_n[['milex','year','name']]\n",
      "milex.loc[(milex.milex == -9),'milex'] = 0"
     ],
     "language": "python",
     "metadata": {},
     "outputs": [],
     "prompt_number": 310
    },
    {
     "cell_type": "code",
     "collapsed": false,
     "input": [
      "years = milex.sort('year',inplace=False).year.unique()\n",
      "expenses_js = pd.DataFrame(index=years, columns=['milex'])\n",
      "for year in years:\n",
      "    expenses_js.ix[year] = milex[milex.year == year].milex.sum()*1000"
     ],
     "language": "python",
     "metadata": {},
     "outputs": [],
     "prompt_number": 311
    },
    {
     "cell_type": "code",
     "collapsed": false,
     "input": [
      "expenses_js.reset_index().to_json('./milex.json',orient='records') # in $"
     ],
     "language": "python",
     "metadata": {},
     "outputs": [],
     "prompt_number": 312
    },
    {
     "cell_type": "heading",
     "level": 1,
     "metadata": {},
     "source": [
      "Alliances"
     ]
    },
    {
     "cell_type": "code",
     "collapsed": false,
     "input": [
      "alliance_raw = pd.read_csv('./cow_alliances/version4.1_csv/alliance_v4.1_by_dyad_yearly.csv')\n",
      "\n",
      "cols = ['defense','neutrality','nonaggression','entente','year','state_name1','state_name2']\n",
      "a = alliance_raw[cols]"
     ],
     "language": "python",
     "metadata": {},
     "outputs": [],
     "prompt_number": 313
    },
    {
     "cell_type": "code",
     "collapsed": false,
     "input": [
      "a = a[a.year > 1945]"
     ],
     "language": "python",
     "metadata": {},
     "outputs": [],
     "prompt_number": 314
    },
    {
     "cell_type": "code",
     "collapsed": false,
     "input": [
      "a = a[a.state_name1.isin(mapped)]\n",
      "a = a[a.state_name2.isin(mapped)]\n",
      "a = a.drop_duplicates()"
     ],
     "language": "python",
     "metadata": {},
     "outputs": [],
     "prompt_number": 315
    },
    {
     "cell_type": "code",
     "collapsed": false,
     "input": [
      "a.head()"
     ],
     "language": "python",
     "metadata": {},
     "outputs": [
      {
       "html": [
        "<div style=\"max-height:1000px;max-width:1500px;overflow:auto;\">\n",
        "<table border=\"1\" class=\"dataframe\">\n",
        "  <thead>\n",
        "    <tr style=\"text-align: right;\">\n",
        "      <th></th>\n",
        "      <th>defense</th>\n",
        "      <th>neutrality</th>\n",
        "      <th>nonaggression</th>\n",
        "      <th>entente</th>\n",
        "      <th>year</th>\n",
        "      <th>state_name1</th>\n",
        "      <th>state_name2</th>\n",
        "    </tr>\n",
        "  </thead>\n",
        "  <tbody>\n",
        "    <tr>\n",
        "      <th>130</th>\n",
        "      <td> 1</td>\n",
        "      <td> 0</td>\n",
        "      <td> 1</td>\n",
        "      <td> 0</td>\n",
        "      <td> 1946</td>\n",
        "      <td> United Kingdom</td>\n",
        "      <td> Portugal</td>\n",
        "    </tr>\n",
        "    <tr>\n",
        "      <th>131</th>\n",
        "      <td> 1</td>\n",
        "      <td> 0</td>\n",
        "      <td> 1</td>\n",
        "      <td> 0</td>\n",
        "      <td> 1947</td>\n",
        "      <td> United Kingdom</td>\n",
        "      <td> Portugal</td>\n",
        "    </tr>\n",
        "    <tr>\n",
        "      <th>132</th>\n",
        "      <td> 1</td>\n",
        "      <td> 0</td>\n",
        "      <td> 1</td>\n",
        "      <td> 0</td>\n",
        "      <td> 1948</td>\n",
        "      <td> United Kingdom</td>\n",
        "      <td> Portugal</td>\n",
        "    </tr>\n",
        "    <tr>\n",
        "      <th>133</th>\n",
        "      <td> 1</td>\n",
        "      <td> 0</td>\n",
        "      <td> 1</td>\n",
        "      <td> 0</td>\n",
        "      <td> 1949</td>\n",
        "      <td> United Kingdom</td>\n",
        "      <td> Portugal</td>\n",
        "    </tr>\n",
        "    <tr>\n",
        "      <th>134</th>\n",
        "      <td> 1</td>\n",
        "      <td> 0</td>\n",
        "      <td> 1</td>\n",
        "      <td> 0</td>\n",
        "      <td> 1950</td>\n",
        "      <td> United Kingdom</td>\n",
        "      <td> Portugal</td>\n",
        "    </tr>\n",
        "  </tbody>\n",
        "</table>\n",
        "</div>"
       ],
       "metadata": {},
       "output_type": "pyout",
       "prompt_number": 316,
       "text": [
        "     defense  neutrality  nonaggression  entente  year     state_name1  \\\n",
        "130        1           0              1        0  1946  United Kingdom   \n",
        "131        1           0              1        0  1947  United Kingdom   \n",
        "132        1           0              1        0  1948  United Kingdom   \n",
        "133        1           0              1        0  1949  United Kingdom   \n",
        "134        1           0              1        0  1950  United Kingdom   \n",
        "\n",
        "    state_name2  \n",
        "130    Portugal  \n",
        "131    Portugal  \n",
        "132    Portugal  \n",
        "133    Portugal  \n",
        "134    Portugal  "
       ]
      }
     ],
     "prompt_number": 316
    },
    {
     "cell_type": "code",
     "collapsed": true,
     "input": [
      "types = [\"defense\",\"neutrality\",\"nonaggression\",\"entente\"]\n",
      "\n",
      "final = pd.DataFrame(columns=['year','state_name1','state_name2','kind'], index=[0])\n",
      "\n",
      "for t in types:\n",
      "    df = a[a[t] == 1][['year','state_name1','state_name2']]\n",
      "    df['kind'] = t\n",
      "    final = pd.concat([final,df])\n",
      "\n",
      "final = final.drop_duplicates()"
     ],
     "language": "python",
     "metadata": {},
     "outputs": [],
     "prompt_number": 317
    },
    {
     "cell_type": "code",
     "collapsed": false,
     "input": [
      "years = final.sort('year').year.unique()\n",
      "\n",
      "result = \"\"\n",
      "result += '['\n",
      "\n",
      "for year in years:\n",
      "    result += '{' + '\"year\":' + str(year) + ','\n",
      "    result += '\"alliances\":' + final.set_index('year').ix[year].to_json(orient='records') + '},'\n",
      "\n",
      "result = result[:-1] + ']'\n",
      "\n",
      "f = open('./alliances.json', 'w')\n",
      "f.write(result.encode('utf-8'))\n",
      "f.close()"
     ],
     "language": "python",
     "metadata": {},
     "outputs": [],
     "prompt_number": 318
    },
    {
     "cell_type": "raw",
     "metadata": {},
     "source": [
      "# for test\n",
      "years = [2002,2003]\n",
      "\n",
      "result = \"\"\n",
      "result += '['\n",
      "\n",
      "for year in years:\n",
      "    result += '{' + '\"year\":' + str(year) + ','\n",
      "    result += '\"alliances\":' + final.set_index('year').ix[year].to_json(orient='records') + '},'\n",
      "\n",
      "result = result[:-1] + ']'\n",
      "\n",
      "print result"
     ]
    },
    {
     "cell_type": "markdown",
     "metadata": {},
     "source": [
      "IGOs data does not include any info about IGO's functions"
     ]
    },
    {
     "cell_type": "heading",
     "level": 1,
     "metadata": {},
     "source": [
      "Prediction - Exploratory part"
     ]
    },
    {
     "cell_type": "code",
     "collapsed": false,
     "input": [],
     "language": "python",
     "metadata": {},
     "outputs": []
    }
   ],
   "metadata": {}
  }
 ]
}