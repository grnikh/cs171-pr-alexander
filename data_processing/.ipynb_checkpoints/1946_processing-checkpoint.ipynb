{
 "metadata": {
  "name": "",
  "signature": "sha256:9a64f9750e64bd359b5411662bf41fb20857ab46a43f1d4c98ab4b790d4f6e67"
 },
 "nbformat": 3,
 "nbformat_minor": 0,
 "worksheets": [
  {
   "cells": [
    {
     "cell_type": "code",
     "collapsed": false,
     "input": [
      "%autosave 60\n",
      "import pandas as pd\n",
      "import numpy as np\n",
      "import matplotlib.pyplot as plt, mpld3\n",
      "import seaborn as sns"
     ],
     "language": "python",
     "metadata": {},
     "outputs": [
      {
       "javascript": [
        "IPython.notebook.set_autosave_interval(60000)"
       ],
       "metadata": {},
       "output_type": "display_data"
      },
      {
       "output_type": "stream",
       "stream": "stdout",
       "text": [
        "Autosaving every 60 seconds\n"
       ]
      }
     ],
     "prompt_number": 1
    },
    {
     "cell_type": "heading",
     "level": 1,
     "metadata": {},
     "source": [
      "Import"
     ]
    },
    {
     "cell_type": "heading",
     "level": 1,
     "metadata": {},
     "source": [
      "Death"
     ]
    },
    {
     "cell_type": "code",
     "collapsed": false,
     "input": [
      "d = deaths_raw\n",
      "d['death'] = 'NaN'\n",
      "# for those cases, when the best estimate of deaths is not available, we are using the mean of high and low estimates\n",
      "\n",
      "est = ((d[d.bdeadbes == -999].bdeadlow + d[d.bdeadbes == -999].bdeadhig) / 2).apply(int)\n",
      "\n",
      "d.loc[est.index,'death'] = est\n",
      "est2 = d[d.bdeadbes != -999].bdeadbes\n",
      "d.loc[est2.index,'death'] = est2\n",
      "\n",
      "#death_cleaned\n",
      "d_c = d[['year','death','id','location','sidea','sideb']]\n",
      "\n",
      "#death_yearly\n",
      "d_y = pd.Series(index=d_c.year.apply(int).unique())\n",
      "\n",
      "for ind in d_y.index:\n",
      "    d_y[ind] = d_c[d_c.year == ind].death.sum()\n",
      "    \n",
      "d_y = d_y.sort_index()\n",
      "\n",
      "d_y.plot()\n",
      "mpld3.display()"
     ],
     "language": "python",
     "metadata": {},
     "outputs": [],
     "prompt_number": 39
    },
    {
     "cell_type": "heading",
     "level": 3,
     "metadata": {},
     "source": [
      "JSON output for death"
     ]
    },
    {
     "cell_type": "code",
     "collapsed": false,
     "input": [
      "d_js = pd.DataFrame(columns=['year','deaths'])\n",
      "d_js.year = d_y.index\n",
      "d_js.deaths = d_y.values\n",
      "d_js.head()\n",
      "d_js.set_index('year').plot()\n",
      "mpld3.display()\n",
      "d_js.to_json('./deaths.json',orient='records')"
     ],
     "language": "python",
     "metadata": {},
     "outputs": [],
     "prompt_number": 15
    },
    {
     "cell_type": "heading",
     "level": 1,
     "metadata": {},
     "source": [
      "Sites"
     ]
    },
    {
     "cell_type": "code",
     "collapsed": false,
     "input": [
      "s = sites_raw[['Year','Latitude','Longitude','Radius','Conflict territory']]\n",
      "s = s[s.Latitude != -888]\n",
      "s.to_json('./blips.json',orient='records')"
     ],
     "language": "python",
     "metadata": {},
     "outputs": [],
     "prompt_number": 22
    },
    {
     "cell_type": "heading",
     "level": 1,
     "metadata": {},
     "source": [
      "Countries at war at given year"
     ]
    },
    {
     "cell_type": "code",
     "collapsed": false,
     "input": [
      "w = main_raw[['SideA','SideB', 'StartDate', 'EpEndDate','YEAR','EpEnd']]\n",
      "years = w.sort('YEAR').YEAR.unique()\n",
      "mapped = set(pd.read_csv('./countries_on_the_map.csv',sep='\\n').Country)\n",
      "w.loc[w.SideA.isin(mapped).apply(lambda x: not x)].SideA.unique()"
     ],
     "language": "python",
     "metadata": {},
     "outputs": [],
     "prompt_number": 26
    },
    {
     "cell_type": "code",
     "collapsed": false,
     "input": [
      "w = w.replace('Russia (Soviet Union)', 'Russia')\n",
      "w = w.replace('Hyderabad', 'India')\n",
      "w = w.replace('North Yemen ', 'Yemen')\n",
      "w = w.replace('North Yemen', 'Yemen')\n",
      "w = w.replace('South Yemen ', 'Yemen')\n",
      "w = w.replace('South Yemen', 'Yemen')\n",
      "w = w.replace('Democratic Republic of Congo (Zaire) ', 'Congo')\n",
      "w = w.replace('North Vietnam', 'Vietnam')\n",
      "w = w.replace('South Vietnam', 'Vietnam')\n",
      "\n",
      "w = w.replace('Syria ','Syria')\n",
      "w = w.replace('Sri Lanka (Ceylon)','Sri Lanka')\n",
      "w = w.replace('Zimbabwe (Rhodesia)','Zimbabwe')\n",
      "w = w.replace('Rumania','Romania')\n",
      "\n",
      "\n",
      "w = w.replace('Turkey/Ottoman Empire','Turkey')\n",
      "w = w.replace('Yugoslavia (Serbia)','Serbia')\n",
      "w = w.replace('Yemen ','Yemen')"
     ],
     "language": "python",
     "metadata": {},
     "outputs": [],
     "prompt_number": 31
    },
    {
     "cell_type": "code",
     "collapsed": true,
     "input": [
      "result = \"\"\n",
      "result += '['\n",
      "\n",
      "for year in years:\n",
      "    result += '{' + '\"year\":' + str(year) + ','\n",
      "    result += '\"enemies\":' + w[w.YEAR == year][['SideA','SideB']].to_json(orient='records') + '},'\n",
      "\n",
      "result = result[:-1] + ']'\n",
      "\n",
      "f = open('./at_war.json', 'w')\n",
      "f.write(result.encode('utf-8'))\n",
      "f.close()"
     ],
     "language": "python",
     "metadata": {},
     "outputs": [],
     "prompt_number": 32
    },
    {
     "cell_type": "heading",
     "level": 1,
     "metadata": {},
     "source": [
      "Lat Long of capitals (from HW 2)"
     ]
    },
    {
     "cell_type": "code",
     "collapsed": false,
     "input": [
      "ll = pd.read_json('./countries_2012.json')\n",
      "ll.shape\n",
      "len(set(ll.name).intersection(mapped))\n",
      "ll_mapped = ll.set_index('name').ix[list(set(ll.name).intersection(mapped))]\n",
      "\n",
      "ll_mapped[['latitude','longitude']].reset_index().to_json('../latlong.json',orient=\"records\")"
     ],
     "language": "python",
     "metadata": {},
     "outputs": [],
     "prompt_number": 34
    },
    {
     "cell_type": "code",
     "collapsed": false,
     "input": [],
     "language": "python",
     "metadata": {},
     "outputs": [],
     "prompt_number": 38
    }
   ],
   "metadata": {}
  }
 ]
}