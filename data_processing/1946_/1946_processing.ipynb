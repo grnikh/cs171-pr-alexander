{
 "metadata": {
  "name": "",
  "signature": "sha256:8a1e26335e5caae9264ce6f30778bc157bd037644e239f57fe10669ea0fdb1f8"
 },
 "nbformat": 3,
 "nbformat_minor": 0,
 "worksheets": [
  {
   "cells": [
    {
     "cell_type": "code",
     "collapsed": false,
     "input": [
      "%autosave 60\n",
      "import pandas as pd\n",
      "import numpy as np\n",
      "import matplotlib.pyplot as plt, mpld3\n",
      "import seaborn as sns"
     ],
     "language": "python",
     "metadata": {},
     "outputs": [
      {
       "javascript": [
        "IPython.notebook.set_autosave_interval(60000)"
       ],
       "metadata": {},
       "output_type": "display_data"
      },
      {
       "output_type": "stream",
       "stream": "stdout",
       "text": [
        "Autosaving every 60 seconds\n"
       ]
      }
     ],
     "prompt_number": 1
    },
    {
     "cell_type": "heading",
     "level": 1,
     "metadata": {},
     "source": [
      "Import"
     ]
    },
    {
     "cell_type": "code",
     "collapsed": false,
     "input": [
      "main_raw = pd.read_excel('./Main Conflict Table.xls', sheetname='Blad1')\n",
      "sites_raw = pd.read_excel('./ConflictSite 4-2010_v3 Dataset.xls', sheetname='Sheet1')\n",
      "deaths_raw = pd.read_excel('./deaths.xls', sheetname='bdonly')"
     ],
     "language": "python",
     "metadata": {},
     "outputs": [],
     "prompt_number": 5
    },
    {
     "cell_type": "code",
     "collapsed": false,
     "input": [
      "main_raw.head()"
     ],
     "language": "python",
     "metadata": {},
     "outputs": [
      {
       "html": [
        "<div style=\"max-height:1000px;max-width:1500px;overflow:auto;\">\n",
        "<table border=\"1\" class=\"dataframe\">\n",
        "  <thead>\n",
        "    <tr style=\"text-align: right;\">\n",
        "      <th></th>\n",
        "      <th>ID</th>\n",
        "      <th>Location</th>\n",
        "      <th>SideA</th>\n",
        "      <th>SideA2nd</th>\n",
        "      <th>SideB</th>\n",
        "      <th>SideB2nd</th>\n",
        "      <th>Incomp</th>\n",
        "      <th>Terr</th>\n",
        "      <th>YEAR</th>\n",
        "      <th>Int</th>\n",
        "      <th>...</th>\n",
        "      <th>EpEnd</th>\n",
        "      <th>EpEndDate</th>\n",
        "      <th>EpEndPrec</th>\n",
        "      <th>GWNOA</th>\n",
        "      <th>GWNOA2nd</th>\n",
        "      <th>GWNOB</th>\n",
        "      <th>GWNOB2nd</th>\n",
        "      <th>GWNOLoc</th>\n",
        "      <th>Region</th>\n",
        "      <th>Version</th>\n",
        "    </tr>\n",
        "  </thead>\n",
        "  <tbody>\n",
        "    <tr>\n",
        "      <th>0</th>\n",
        "      <td> 1</td>\n",
        "      <td>  Bolivia</td>\n",
        "      <td> Bolivia</td>\n",
        "      <td> NaN</td>\n",
        "      <td> Popular Revolutionary Movement</td>\n",
        "      <td> NaN</td>\n",
        "      <td> 2</td>\n",
        "      <td>      NaN</td>\n",
        "      <td> 1946</td>\n",
        "      <td> 2</td>\n",
        "      <td>...</td>\n",
        "      <td> 1</td>\n",
        "      <td>1946-07-21</td>\n",
        "      <td>-99</td>\n",
        "      <td> 145</td>\n",
        "      <td> NaN</td>\n",
        "      <td> NaN</td>\n",
        "      <td> NaN</td>\n",
        "      <td> 145</td>\n",
        "      <td> 5</td>\n",
        "      <td>NaN</td>\n",
        "    </tr>\n",
        "    <tr>\n",
        "      <th>1</th>\n",
        "      <td> 1</td>\n",
        "      <td>  Bolivia</td>\n",
        "      <td> Bolivia</td>\n",
        "      <td> NaN</td>\n",
        "      <td>                            MNR</td>\n",
        "      <td> NaN</td>\n",
        "      <td> 2</td>\n",
        "      <td>      NaN</td>\n",
        "      <td> 1952</td>\n",
        "      <td> 1</td>\n",
        "      <td>...</td>\n",
        "      <td> 1</td>\n",
        "      <td>1952-04-12</td>\n",
        "      <td>-99</td>\n",
        "      <td> 145</td>\n",
        "      <td> NaN</td>\n",
        "      <td> NaN</td>\n",
        "      <td> NaN</td>\n",
        "      <td> 145</td>\n",
        "      <td> 5</td>\n",
        "      <td>NaN</td>\n",
        "    </tr>\n",
        "    <tr>\n",
        "      <th>2</th>\n",
        "      <td> 1</td>\n",
        "      <td>  Bolivia</td>\n",
        "      <td> Bolivia</td>\n",
        "      <td> NaN</td>\n",
        "      <td>                            ELN</td>\n",
        "      <td> NaN</td>\n",
        "      <td> 2</td>\n",
        "      <td>      NaN</td>\n",
        "      <td> 1967</td>\n",
        "      <td> 1</td>\n",
        "      <td>...</td>\n",
        "      <td> 1</td>\n",
        "      <td>1967-10-16</td>\n",
        "      <td>-99</td>\n",
        "      <td> 145</td>\n",
        "      <td> NaN</td>\n",
        "      <td> NaN</td>\n",
        "      <td> NaN</td>\n",
        "      <td> 145</td>\n",
        "      <td> 5</td>\n",
        "      <td>NaN</td>\n",
        "    </tr>\n",
        "    <tr>\n",
        "      <th>3</th>\n",
        "      <td> 2</td>\n",
        "      <td> Cambodia</td>\n",
        "      <td>  France</td>\n",
        "      <td> NaN</td>\n",
        "      <td>                  Khmer Issarak</td>\n",
        "      <td> NaN</td>\n",
        "      <td> 1</td>\n",
        "      <td> Cambodia</td>\n",
        "      <td> 1946</td>\n",
        "      <td> 1</td>\n",
        "      <td>...</td>\n",
        "      <td> 0</td>\n",
        "      <td>       NaT</td>\n",
        "      <td>NaN</td>\n",
        "      <td> 220</td>\n",
        "      <td> NaN</td>\n",
        "      <td> NaN</td>\n",
        "      <td> NaN</td>\n",
        "      <td> 811</td>\n",
        "      <td> 3</td>\n",
        "      <td>NaN</td>\n",
        "    </tr>\n",
        "    <tr>\n",
        "      <th>4</th>\n",
        "      <td> 2</td>\n",
        "      <td> Cambodia</td>\n",
        "      <td>  France</td>\n",
        "      <td> NaN</td>\n",
        "      <td>                  Khmer Issarak</td>\n",
        "      <td> NaN</td>\n",
        "      <td> 1</td>\n",
        "      <td> Cambodia</td>\n",
        "      <td> 1947</td>\n",
        "      <td> 1</td>\n",
        "      <td>...</td>\n",
        "      <td> 0</td>\n",
        "      <td>       NaT</td>\n",
        "      <td>NaN</td>\n",
        "      <td> 220</td>\n",
        "      <td> NaN</td>\n",
        "      <td> NaN</td>\n",
        "      <td> NaN</td>\n",
        "      <td> 811</td>\n",
        "      <td> 3</td>\n",
        "      <td>NaN</td>\n",
        "    </tr>\n",
        "  </tbody>\n",
        "</table>\n",
        "<p>5 rows \u00d7 26 columns</p>\n",
        "</div>"
       ],
       "metadata": {},
       "output_type": "pyout",
       "prompt_number": 6,
       "text": [
        "   ID  Location    SideA SideA2nd                           SideB SideB2nd  \\\n",
        "0   1   Bolivia  Bolivia      NaN  Popular Revolutionary Movement      NaN   \n",
        "1   1   Bolivia  Bolivia      NaN                             MNR      NaN   \n",
        "2   1   Bolivia  Bolivia      NaN                             ELN      NaN   \n",
        "3   2  Cambodia   France      NaN                   Khmer Issarak      NaN   \n",
        "4   2  Cambodia   France      NaN                   Khmer Issarak      NaN   \n",
        "\n",
        "   Incomp      Terr  YEAR  Int   ...    EpEnd  EpEndDate EpEndPrec  GWNOA  \\\n",
        "0       2       NaN  1946    2   ...        1 1946-07-21       -99    145   \n",
        "1       2       NaN  1952    1   ...        1 1952-04-12       -99    145   \n",
        "2       2       NaN  1967    1   ...        1 1967-10-16       -99    145   \n",
        "3       1  Cambodia  1946    1   ...        0        NaT       NaN    220   \n",
        "4       1  Cambodia  1947    1   ...        0        NaT       NaN    220   \n",
        "\n",
        "  GWNOA2nd  GWNOB  GWNOB2nd GWNOLoc  Region Version  \n",
        "0      NaN    NaN       NaN     145       5     NaN  \n",
        "1      NaN    NaN       NaN     145       5     NaN  \n",
        "2      NaN    NaN       NaN     145       5     NaN  \n",
        "3      NaN    NaN       NaN     811       3     NaN  \n",
        "4      NaN    NaN       NaN     811       3     NaN  \n",
        "\n",
        "[5 rows x 26 columns]"
       ]
      }
     ],
     "prompt_number": 6
    },
    {
     "cell_type": "code",
     "collapsed": false,
     "input": [
      "sites_raw.head()"
     ],
     "language": "python",
     "metadata": {},
     "outputs": [
      {
       "html": [
        "<div style=\"max-height:1000px;max-width:1500px;overflow:auto;\">\n",
        "<table border=\"1\" class=\"dataframe\">\n",
        "  <thead>\n",
        "    <tr style=\"text-align: right;\">\n",
        "      <th></th>\n",
        "      <th>ID</th>\n",
        "      <th>Year</th>\n",
        "      <th>Latitude</th>\n",
        "      <th>Longitude</th>\n",
        "      <th>Radius</th>\n",
        "      <th>Conflict area</th>\n",
        "      <th>Conflict site</th>\n",
        "      <th>Conflict territory</th>\n",
        "      <th>Version</th>\n",
        "    </tr>\n",
        "  </thead>\n",
        "  <tbody>\n",
        "    <tr>\n",
        "      <th>0</th>\n",
        "      <td>  6</td>\n",
        "      <td> 1990</td>\n",
        "      <td> 35.87</td>\n",
        "      <td>  46.87</td>\n",
        "      <td> 150</td>\n",
        "      <td>  62678</td>\n",
        "      <td> 630</td>\n",
        "      <td>        Iran</td>\n",
        "      <td> 4-2010</td>\n",
        "    </tr>\n",
        "    <tr>\n",
        "      <th>1</th>\n",
        "      <td>  6</td>\n",
        "      <td> 1993</td>\n",
        "      <td> 35.60</td>\n",
        "      <td>  45.92</td>\n",
        "      <td> 100</td>\n",
        "      <td>  17650</td>\n",
        "      <td> 630</td>\n",
        "      <td>        Iran</td>\n",
        "      <td> 4-2010</td>\n",
        "    </tr>\n",
        "    <tr>\n",
        "      <th>2</th>\n",
        "      <td>  6</td>\n",
        "      <td> 1996</td>\n",
        "      <td> 36.16</td>\n",
        "      <td>  45.48</td>\n",
        "      <td>  50</td>\n",
        "      <td>   4494</td>\n",
        "      <td> 630</td>\n",
        "      <td>        Iran</td>\n",
        "      <td> 4-2010</td>\n",
        "    </tr>\n",
        "    <tr>\n",
        "      <th>3</th>\n",
        "      <td> 10</td>\n",
        "      <td> 1989</td>\n",
        "      <td> 12.80</td>\n",
        "      <td> 122.98</td>\n",
        "      <td> 850</td>\n",
        "      <td> 291611</td>\n",
        "      <td> 840</td>\n",
        "      <td> Philippines</td>\n",
        "      <td> 4-2010</td>\n",
        "    </tr>\n",
        "    <tr>\n",
        "      <th>4</th>\n",
        "      <td> 10</td>\n",
        "      <td> 1990</td>\n",
        "      <td> 12.54</td>\n",
        "      <td> 123.03</td>\n",
        "      <td> 850</td>\n",
        "      <td> 291779</td>\n",
        "      <td> 840</td>\n",
        "      <td> Philippines</td>\n",
        "      <td> 4-2010</td>\n",
        "    </tr>\n",
        "  </tbody>\n",
        "</table>\n",
        "</div>"
       ],
       "metadata": {},
       "output_type": "pyout",
       "prompt_number": 7,
       "text": [
        "   ID  Year  Latitude  Longitude  Radius  Conflict area Conflict site  \\\n",
        "0   6  1990     35.87      46.87     150          62678           630   \n",
        "1   6  1993     35.60      45.92     100          17650           630   \n",
        "2   6  1996     36.16      45.48      50           4494           630   \n",
        "3  10  1989     12.80     122.98     850         291611           840   \n",
        "4  10  1990     12.54     123.03     850         291779           840   \n",
        "\n",
        "  Conflict territory Version  \n",
        "0               Iran  4-2010  \n",
        "1               Iran  4-2010  \n",
        "2               Iran  4-2010  \n",
        "3        Philippines  4-2010  \n",
        "4        Philippines  4-2010  "
       ]
      }
     ],
     "prompt_number": 7
    },
    {
     "cell_type": "code",
     "collapsed": false,
     "input": [
      "deaths_raw.head()"
     ],
     "language": "python",
     "metadata": {},
     "outputs": [
      {
       "html": [
        "<div style=\"max-height:1000px;max-width:1500px;overflow:auto;\">\n",
        "<table border=\"1\" class=\"dataframe\">\n",
        "  <thead>\n",
        "    <tr style=\"text-align: right;\">\n",
        "      <th></th>\n",
        "      <th>id</th>\n",
        "      <th>year</th>\n",
        "      <th>bdeadlow</th>\n",
        "      <th>bdeadhig</th>\n",
        "      <th>bdeadbes</th>\n",
        "      <th>annualdata</th>\n",
        "      <th>source</th>\n",
        "      <th>bdversion</th>\n",
        "      <th>location</th>\n",
        "      <th>sidea</th>\n",
        "      <th>...</th>\n",
        "      <th>epend</th>\n",
        "      <th>ependdate</th>\n",
        "      <th>ependprec</th>\n",
        "      <th>gwnoa</th>\n",
        "      <th>gwnoa2nd</th>\n",
        "      <th>gwnob</th>\n",
        "      <th>gwnob2nd</th>\n",
        "      <th>gwnoloc</th>\n",
        "      <th>region</th>\n",
        "      <th>version</th>\n",
        "    </tr>\n",
        "  </thead>\n",
        "  <tbody>\n",
        "    <tr>\n",
        "      <th>0</th>\n",
        "      <td> 1</td>\n",
        "      <td> 1946</td>\n",
        "      <td> 1000</td>\n",
        "      <td> 9999</td>\n",
        "      <td> 1000</td>\n",
        "      <td> 2</td>\n",
        "      <td> 1</td>\n",
        "      <td> 3</td>\n",
        "      <td>  Bolivia</td>\n",
        "      <td> Bolivia</td>\n",
        "      <td>...</td>\n",
        "      <td> 1</td>\n",
        "      <td>1946-07-21</td>\n",
        "      <td>-99</td>\n",
        "      <td> 145</td>\n",
        "      <td> NaN</td>\n",
        "      <td>NaN</td>\n",
        "      <td> NaN</td>\n",
        "      <td> 145</td>\n",
        "      <td> 5</td>\n",
        "      <td> 2009-4</td>\n",
        "    </tr>\n",
        "    <tr>\n",
        "      <th>1</th>\n",
        "      <td> 1</td>\n",
        "      <td> 1952</td>\n",
        "      <td>  450</td>\n",
        "      <td> 3000</td>\n",
        "      <td> -999</td>\n",
        "      <td> 2</td>\n",
        "      <td> 1</td>\n",
        "      <td> 3</td>\n",
        "      <td>  Bolivia</td>\n",
        "      <td> Bolivia</td>\n",
        "      <td>...</td>\n",
        "      <td> 1</td>\n",
        "      <td>1952-04-12</td>\n",
        "      <td>-99</td>\n",
        "      <td> 145</td>\n",
        "      <td> NaN</td>\n",
        "      <td>NaN</td>\n",
        "      <td> NaN</td>\n",
        "      <td> 145</td>\n",
        "      <td> 5</td>\n",
        "      <td> 2009-4</td>\n",
        "    </tr>\n",
        "    <tr>\n",
        "      <th>2</th>\n",
        "      <td> 1</td>\n",
        "      <td> 1967</td>\n",
        "      <td>   25</td>\n",
        "      <td>  999</td>\n",
        "      <td>   82</td>\n",
        "      <td> 2</td>\n",
        "      <td> 1</td>\n",
        "      <td> 3</td>\n",
        "      <td>  Bolivia</td>\n",
        "      <td> Bolivia</td>\n",
        "      <td>...</td>\n",
        "      <td> 1</td>\n",
        "      <td>1967-10-16</td>\n",
        "      <td>-99</td>\n",
        "      <td> 145</td>\n",
        "      <td> NaN</td>\n",
        "      <td>NaN</td>\n",
        "      <td> NaN</td>\n",
        "      <td> 145</td>\n",
        "      <td> 5</td>\n",
        "      <td> 2009-4</td>\n",
        "    </tr>\n",
        "    <tr>\n",
        "      <th>3</th>\n",
        "      <td> 2</td>\n",
        "      <td> 1946</td>\n",
        "      <td>   25</td>\n",
        "      <td>  999</td>\n",
        "      <td> -999</td>\n",
        "      <td> 0</td>\n",
        "      <td> 0</td>\n",
        "      <td> 3</td>\n",
        "      <td> Cambodia</td>\n",
        "      <td>  France</td>\n",
        "      <td>...</td>\n",
        "      <td> 0</td>\n",
        "      <td>       NaT</td>\n",
        "      <td>NaN</td>\n",
        "      <td> 220</td>\n",
        "      <td> NaN</td>\n",
        "      <td>NaN</td>\n",
        "      <td> NaN</td>\n",
        "      <td> 811</td>\n",
        "      <td> 3</td>\n",
        "      <td> 2009-4</td>\n",
        "    </tr>\n",
        "    <tr>\n",
        "      <th>4</th>\n",
        "      <td> 2</td>\n",
        "      <td> 1947</td>\n",
        "      <td>   25</td>\n",
        "      <td>  999</td>\n",
        "      <td> -999</td>\n",
        "      <td> 0</td>\n",
        "      <td> 0</td>\n",
        "      <td> 3</td>\n",
        "      <td> Cambodia</td>\n",
        "      <td>  France</td>\n",
        "      <td>...</td>\n",
        "      <td> 0</td>\n",
        "      <td>       NaT</td>\n",
        "      <td>NaN</td>\n",
        "      <td> 220</td>\n",
        "      <td> NaN</td>\n",
        "      <td>NaN</td>\n",
        "      <td> NaN</td>\n",
        "      <td> 811</td>\n",
        "      <td> 3</td>\n",
        "      <td> 2009-4</td>\n",
        "    </tr>\n",
        "  </tbody>\n",
        "</table>\n",
        "<p>5 rows \u00d7 32 columns</p>\n",
        "</div>"
       ],
       "metadata": {},
       "output_type": "pyout",
       "prompt_number": 8,
       "text": [
        "   id  year  bdeadlow  bdeadhig  bdeadbes  annualdata  source  bdversion  \\\n",
        "0   1  1946      1000      9999      1000           2       1          3   \n",
        "1   1  1952       450      3000      -999           2       1          3   \n",
        "2   1  1967        25       999        82           2       1          3   \n",
        "3   2  1946        25       999      -999           0       0          3   \n",
        "4   2  1947        25       999      -999           0       0          3   \n",
        "\n",
        "   location    sidea   ...    epend  ependdate ependprec  gwnoa gwnoa2nd  \\\n",
        "0   Bolivia  Bolivia   ...        1 1946-07-21       -99    145      NaN   \n",
        "1   Bolivia  Bolivia   ...        1 1952-04-12       -99    145      NaN   \n",
        "2   Bolivia  Bolivia   ...        1 1967-10-16       -99    145      NaN   \n",
        "3  Cambodia   France   ...        0        NaT       NaN    220      NaN   \n",
        "4  Cambodia   France   ...        0        NaT       NaN    220      NaN   \n",
        "\n",
        "   gwnob  gwnob2nd  gwnoloc region  version  \n",
        "0    NaN       NaN      145      5   2009-4  \n",
        "1    NaN       NaN      145      5   2009-4  \n",
        "2    NaN       NaN      145      5   2009-4  \n",
        "3    NaN       NaN      811      3   2009-4  \n",
        "4    NaN       NaN      811      3   2009-4  \n",
        "\n",
        "[5 rows x 32 columns]"
       ]
      }
     ],
     "prompt_number": 8
    },
    {
     "cell_type": "heading",
     "level": 1,
     "metadata": {},
     "source": [
      "Death"
     ]
    },
    {
     "cell_type": "code",
     "collapsed": false,
     "input": [
      "d = deaths_raw"
     ],
     "language": "python",
     "metadata": {},
     "outputs": [],
     "prompt_number": 122
    },
    {
     "cell_type": "code",
     "collapsed": false,
     "input": [
      "d['death'] = 'NaN'"
     ],
     "language": "python",
     "metadata": {},
     "outputs": [],
     "prompt_number": 123
    },
    {
     "cell_type": "code",
     "collapsed": false,
     "input": [
      "# for those cases, when the best estimate of deaths is not available, we are using the mean of high and low estimates\n",
      "\n",
      "est = ((d[d.bdeadbes == -999].bdeadlow + d[d.bdeadbes == -999].bdeadhig) / 2).apply(int)\n",
      "\n",
      "d.loc[est.index,'death'] = est"
     ],
     "language": "python",
     "metadata": {},
     "outputs": [],
     "prompt_number": 124
    },
    {
     "cell_type": "code",
     "collapsed": false,
     "input": [
      "est2 = d[d.bdeadbes != -999].bdeadbes\n",
      "d.loc[est2.index,'death'] = est2"
     ],
     "language": "python",
     "metadata": {},
     "outputs": [],
     "prompt_number": 125
    },
    {
     "cell_type": "code",
     "collapsed": false,
     "input": [
      "#death_cleaned\n",
      "d_c = d[['year','death','id','location','sidea','sideb']]"
     ],
     "language": "python",
     "metadata": {},
     "outputs": [],
     "prompt_number": 126
    },
    {
     "cell_type": "code",
     "collapsed": false,
     "input": [
      "#death_yearly\n",
      "d_y = pd.Series(index=d_c.year.apply(int).unique())"
     ],
     "language": "python",
     "metadata": {},
     "outputs": [],
     "prompt_number": 127
    },
    {
     "cell_type": "code",
     "collapsed": false,
     "input": [
      "for ind in d_y.index:\n",
      "    d_y[ind] = d_c[d_c.year == ind].death.sum()"
     ],
     "language": "python",
     "metadata": {},
     "outputs": [],
     "prompt_number": 128
    },
    {
     "cell_type": "code",
     "collapsed": false,
     "input": [
      "d_y = d_y.sort_index()"
     ],
     "language": "python",
     "metadata": {},
     "outputs": [],
     "prompt_number": 129
    },
    {
     "cell_type": "code",
     "collapsed": false,
     "input": [
      "d_y.plot()\n",
      "mpld3.display()"
     ],
     "language": "python",
     "metadata": {},
     "outputs": [
      {
       "html": [
        "\n",
        "\n",
        "<style>\n",
        "\n",
        "</style>\n",
        "\n",
        "<div id=\"fig_el63564376975604253158536\"></div>\n",
        "<script>\n",
        "function mpld3_load_lib(url, callback){\n",
        "  var s = document.createElement('script');\n",
        "  s.src = url;\n",
        "  s.async = true;\n",
        "  s.onreadystatechange = s.onload = callback;\n",
        "  s.onerror = function(){console.warn(\"failed to load library \" + url);};\n",
        "  document.getElementsByTagName(\"head\")[0].appendChild(s);\n",
        "}\n",
        "\n",
        "if(typeof(mpld3) !== \"undefined\" && mpld3._mpld3IsLoaded){\n",
        "   // already loaded: just create the figure\n",
        "   !function(mpld3){\n",
        "       \n",
        "       mpld3.draw_figure(\"fig_el63564376975604253158536\", {\"axes\": [{\"xlim\": [1946.0, 2008.0], \"yscale\": \"linear\", \"axesbg\": \"#EAEAF2\", \"texts\": [], \"zoomable\": true, \"images\": [], \"xdomain\": [1946.0, 2008.0], \"ylim\": [0.0, 600000.0], \"paths\": [], \"sharey\": [], \"sharex\": [], \"axesbgalpha\": null, \"axes\": [{\"scale\": \"linear\", \"tickformat\": null, \"grid\": {\"color\": \"#FFFFFF\", \"alpha\": 1.0, \"dasharray\": \"10,0\", \"gridOn\": true}, \"fontsize\": 10.0, \"position\": \"bottom\", \"nticks\": 8, \"tickvalues\": null}, {\"scale\": \"linear\", \"tickformat\": null, \"grid\": {\"color\": \"#FFFFFF\", \"alpha\": 1.0, \"dasharray\": \"10,0\", \"gridOn\": true}, \"fontsize\": 10.0, \"position\": \"left\", \"nticks\": 7, \"tickvalues\": null}], \"lines\": [{\"color\": \"#4C72B0\", \"yindex\": 1, \"coordinates\": \"data\", \"dasharray\": \"10,0\", \"zorder\": 2, \"alpha\": 1, \"xindex\": 0, \"linewidth\": 1.75, \"data\": \"data01\", \"id\": \"el6356438836584\"}], \"markers\": [], \"id\": \"el6356437658120\", \"ydomain\": [0.0, 600000.0], \"collections\": [], \"xscale\": \"linear\", \"bbox\": [0.125, 0.099999999999999978, 0.77500000000000002, 0.80000000000000004]}], \"height\": 440.0, \"width\": 640.0, \"plugins\": [{\"type\": \"reset\"}, {\"enabled\": false, \"button\": true, \"type\": \"zoom\"}, {\"enabled\": false, \"button\": true, \"type\": \"boxzoom\"}], \"data\": {\"data01\": [[1946.0, 299621.0], [1947.0, 415334.0], [1948.0, 487297.0], [1949.0, 465304.0], [1950.0, 596084.0], [1951.0, 404949.0], [1952.0, 154144.0], [1953.0, 103056.0], [1954.0, 72985.0], [1955.0, 35282.0], [1956.0, 43581.0], [1957.0, 35424.0], [1958.0, 51785.0], [1959.0, 55598.0], [1960.0, 153963.0], [1961.0, 173335.0], [1962.0, 85581.0], [1963.0, 87488.0], [1964.0, 91166.0], [1965.0, 126800.0], [1966.0, 124515.0], [1967.0, 155606.0], [1968.0, 266227.0], [1969.0, 230692.0], [1970.0, 242449.0], [1971.0, 379406.0], [1972.0, 319973.0], [1973.0, 242079.0], [1974.0, 280062.0], [1975.0, 153480.0], [1976.0, 121282.0], [1977.0, 60816.0], [1978.0, 117953.0], [1979.0, 169339.0], [1980.0, 142333.0], [1981.0, 217181.0], [1982.0, 269537.0], [1983.0, 251904.0], [1984.0, 268176.0], [1985.0, 241801.0], [1986.0, 251407.0], [1987.0, 210626.0], [1988.0, 267463.0], [1989.0, 86041.0], [1990.0, 96591.0], [1991.0, 154049.0], [1992.0, 101478.0], [1993.0, 104188.0], [1994.0, 88792.0], [1995.0, 77228.0], [1996.0, 56835.0], [1997.0, 46441.0], [1998.0, 99875.0], [1999.0, 134184.0], [2000.0, 92481.0], [2001.0, 78725.0], [2002.0, 27592.0], [2003.0, 35341.0], [2004.0, 38800.0], [2005.0, 38663.0], [2006.0, 58902.0], [2007.0, 63549.0], [2008.0, 49662.0]]}, \"id\": \"el6356437697560\"});\n",
        "   }(mpld3);\n",
        "}else if(typeof define === \"function\" && define.amd){\n",
        "   // require.js is available: use it to load d3/mpld3\n",
        "   require.config({paths: {d3: \"https://mpld3.github.io/js/d3.v3.min\"}});\n",
        "   require([\"d3\"], function(d3){\n",
        "      window.d3 = d3;\n",
        "      mpld3_load_lib(\"https://mpld3.github.io/js/mpld3.v0.2.js\", function(){\n",
        "         \n",
        "         mpld3.draw_figure(\"fig_el63564376975604253158536\", {\"axes\": [{\"xlim\": [1946.0, 2008.0], \"yscale\": \"linear\", \"axesbg\": \"#EAEAF2\", \"texts\": [], \"zoomable\": true, \"images\": [], \"xdomain\": [1946.0, 2008.0], \"ylim\": [0.0, 600000.0], \"paths\": [], \"sharey\": [], \"sharex\": [], \"axesbgalpha\": null, \"axes\": [{\"scale\": \"linear\", \"tickformat\": null, \"grid\": {\"color\": \"#FFFFFF\", \"alpha\": 1.0, \"dasharray\": \"10,0\", \"gridOn\": true}, \"fontsize\": 10.0, \"position\": \"bottom\", \"nticks\": 8, \"tickvalues\": null}, {\"scale\": \"linear\", \"tickformat\": null, \"grid\": {\"color\": \"#FFFFFF\", \"alpha\": 1.0, \"dasharray\": \"10,0\", \"gridOn\": true}, \"fontsize\": 10.0, \"position\": \"left\", \"nticks\": 7, \"tickvalues\": null}], \"lines\": [{\"color\": \"#4C72B0\", \"yindex\": 1, \"coordinates\": \"data\", \"dasharray\": \"10,0\", \"zorder\": 2, \"alpha\": 1, \"xindex\": 0, \"linewidth\": 1.75, \"data\": \"data01\", \"id\": \"el6356438836584\"}], \"markers\": [], \"id\": \"el6356437658120\", \"ydomain\": [0.0, 600000.0], \"collections\": [], \"xscale\": \"linear\", \"bbox\": [0.125, 0.099999999999999978, 0.77500000000000002, 0.80000000000000004]}], \"height\": 440.0, \"width\": 640.0, \"plugins\": [{\"type\": \"reset\"}, {\"enabled\": false, \"button\": true, \"type\": \"zoom\"}, {\"enabled\": false, \"button\": true, \"type\": \"boxzoom\"}], \"data\": {\"data01\": [[1946.0, 299621.0], [1947.0, 415334.0], [1948.0, 487297.0], [1949.0, 465304.0], [1950.0, 596084.0], [1951.0, 404949.0], [1952.0, 154144.0], [1953.0, 103056.0], [1954.0, 72985.0], [1955.0, 35282.0], [1956.0, 43581.0], [1957.0, 35424.0], [1958.0, 51785.0], [1959.0, 55598.0], [1960.0, 153963.0], [1961.0, 173335.0], [1962.0, 85581.0], [1963.0, 87488.0], [1964.0, 91166.0], [1965.0, 126800.0], [1966.0, 124515.0], [1967.0, 155606.0], [1968.0, 266227.0], [1969.0, 230692.0], [1970.0, 242449.0], [1971.0, 379406.0], [1972.0, 319973.0], [1973.0, 242079.0], [1974.0, 280062.0], [1975.0, 153480.0], [1976.0, 121282.0], [1977.0, 60816.0], [1978.0, 117953.0], [1979.0, 169339.0], [1980.0, 142333.0], [1981.0, 217181.0], [1982.0, 269537.0], [1983.0, 251904.0], [1984.0, 268176.0], [1985.0, 241801.0], [1986.0, 251407.0], [1987.0, 210626.0], [1988.0, 267463.0], [1989.0, 86041.0], [1990.0, 96591.0], [1991.0, 154049.0], [1992.0, 101478.0], [1993.0, 104188.0], [1994.0, 88792.0], [1995.0, 77228.0], [1996.0, 56835.0], [1997.0, 46441.0], [1998.0, 99875.0], [1999.0, 134184.0], [2000.0, 92481.0], [2001.0, 78725.0], [2002.0, 27592.0], [2003.0, 35341.0], [2004.0, 38800.0], [2005.0, 38663.0], [2006.0, 58902.0], [2007.0, 63549.0], [2008.0, 49662.0]]}, \"id\": \"el6356437697560\"});\n",
        "      });\n",
        "    });\n",
        "}else{\n",
        "    // require.js not available: dynamically load d3 & mpld3\n",
        "    mpld3_load_lib(\"https://mpld3.github.io/js/d3.v3.min.js\", function(){\n",
        "         mpld3_load_lib(\"https://mpld3.github.io/js/mpld3.v0.2.js\", function(){\n",
        "                 \n",
        "                 mpld3.draw_figure(\"fig_el63564376975604253158536\", {\"axes\": [{\"xlim\": [1946.0, 2008.0], \"yscale\": \"linear\", \"axesbg\": \"#EAEAF2\", \"texts\": [], \"zoomable\": true, \"images\": [], \"xdomain\": [1946.0, 2008.0], \"ylim\": [0.0, 600000.0], \"paths\": [], \"sharey\": [], \"sharex\": [], \"axesbgalpha\": null, \"axes\": [{\"scale\": \"linear\", \"tickformat\": null, \"grid\": {\"color\": \"#FFFFFF\", \"alpha\": 1.0, \"dasharray\": \"10,0\", \"gridOn\": true}, \"fontsize\": 10.0, \"position\": \"bottom\", \"nticks\": 8, \"tickvalues\": null}, {\"scale\": \"linear\", \"tickformat\": null, \"grid\": {\"color\": \"#FFFFFF\", \"alpha\": 1.0, \"dasharray\": \"10,0\", \"gridOn\": true}, \"fontsize\": 10.0, \"position\": \"left\", \"nticks\": 7, \"tickvalues\": null}], \"lines\": [{\"color\": \"#4C72B0\", \"yindex\": 1, \"coordinates\": \"data\", \"dasharray\": \"10,0\", \"zorder\": 2, \"alpha\": 1, \"xindex\": 0, \"linewidth\": 1.75, \"data\": \"data01\", \"id\": \"el6356438836584\"}], \"markers\": [], \"id\": \"el6356437658120\", \"ydomain\": [0.0, 600000.0], \"collections\": [], \"xscale\": \"linear\", \"bbox\": [0.125, 0.099999999999999978, 0.77500000000000002, 0.80000000000000004]}], \"height\": 440.0, \"width\": 640.0, \"plugins\": [{\"type\": \"reset\"}, {\"enabled\": false, \"button\": true, \"type\": \"zoom\"}, {\"enabled\": false, \"button\": true, \"type\": \"boxzoom\"}], \"data\": {\"data01\": [[1946.0, 299621.0], [1947.0, 415334.0], [1948.0, 487297.0], [1949.0, 465304.0], [1950.0, 596084.0], [1951.0, 404949.0], [1952.0, 154144.0], [1953.0, 103056.0], [1954.0, 72985.0], [1955.0, 35282.0], [1956.0, 43581.0], [1957.0, 35424.0], [1958.0, 51785.0], [1959.0, 55598.0], [1960.0, 153963.0], [1961.0, 173335.0], [1962.0, 85581.0], [1963.0, 87488.0], [1964.0, 91166.0], [1965.0, 126800.0], [1966.0, 124515.0], [1967.0, 155606.0], [1968.0, 266227.0], [1969.0, 230692.0], [1970.0, 242449.0], [1971.0, 379406.0], [1972.0, 319973.0], [1973.0, 242079.0], [1974.0, 280062.0], [1975.0, 153480.0], [1976.0, 121282.0], [1977.0, 60816.0], [1978.0, 117953.0], [1979.0, 169339.0], [1980.0, 142333.0], [1981.0, 217181.0], [1982.0, 269537.0], [1983.0, 251904.0], [1984.0, 268176.0], [1985.0, 241801.0], [1986.0, 251407.0], [1987.0, 210626.0], [1988.0, 267463.0], [1989.0, 86041.0], [1990.0, 96591.0], [1991.0, 154049.0], [1992.0, 101478.0], [1993.0, 104188.0], [1994.0, 88792.0], [1995.0, 77228.0], [1996.0, 56835.0], [1997.0, 46441.0], [1998.0, 99875.0], [1999.0, 134184.0], [2000.0, 92481.0], [2001.0, 78725.0], [2002.0, 27592.0], [2003.0, 35341.0], [2004.0, 38800.0], [2005.0, 38663.0], [2006.0, 58902.0], [2007.0, 63549.0], [2008.0, 49662.0]]}, \"id\": \"el6356437697560\"});\n",
        "            })\n",
        "         });\n",
        "}\n",
        "</script>"
       ],
       "metadata": {},
       "output_type": "pyout",
       "prompt_number": 130,
       "text": [
        "<IPython.core.display.HTML at 0x1a29da58>"
       ]
      }
     ],
     "prompt_number": 130
    },
    {
     "cell_type": "heading",
     "level": 3,
     "metadata": {},
     "source": [
      "JSON output for death"
     ]
    },
    {
     "cell_type": "code",
     "collapsed": false,
     "input": [
      "d_js = pd.DataFrame(columns=['year','deaths'])"
     ],
     "language": "python",
     "metadata": {},
     "outputs": [],
     "prompt_number": 134
    },
    {
     "cell_type": "code",
     "collapsed": false,
     "input": [
      "d_js.year = d_y.index"
     ],
     "language": "python",
     "metadata": {},
     "outputs": [],
     "prompt_number": 135
    },
    {
     "cell_type": "code",
     "collapsed": false,
     "input": [
      "d_js.deaths = d_y.values"
     ],
     "language": "python",
     "metadata": {},
     "outputs": [],
     "prompt_number": 139
    },
    {
     "cell_type": "code",
     "collapsed": false,
     "input": [
      "d_js.head()"
     ],
     "language": "python",
     "metadata": {},
     "outputs": [
      {
       "html": [
        "<div style=\"max-height:1000px;max-width:1500px;overflow:auto;\">\n",
        "<table border=\"1\" class=\"dataframe\">\n",
        "  <thead>\n",
        "    <tr style=\"text-align: right;\">\n",
        "      <th></th>\n",
        "      <th>year</th>\n",
        "      <th>deaths</th>\n",
        "    </tr>\n",
        "  </thead>\n",
        "  <tbody>\n",
        "    <tr>\n",
        "      <th>0</th>\n",
        "      <td> 1946</td>\n",
        "      <td> 299621</td>\n",
        "    </tr>\n",
        "    <tr>\n",
        "      <th>1</th>\n",
        "      <td> 1947</td>\n",
        "      <td> 415334</td>\n",
        "    </tr>\n",
        "    <tr>\n",
        "      <th>2</th>\n",
        "      <td> 1948</td>\n",
        "      <td> 487297</td>\n",
        "    </tr>\n",
        "    <tr>\n",
        "      <th>3</th>\n",
        "      <td> 1949</td>\n",
        "      <td> 465304</td>\n",
        "    </tr>\n",
        "    <tr>\n",
        "      <th>4</th>\n",
        "      <td> 1950</td>\n",
        "      <td> 596084</td>\n",
        "    </tr>\n",
        "  </tbody>\n",
        "</table>\n",
        "</div>"
       ],
       "metadata": {},
       "output_type": "pyout",
       "prompt_number": 140,
       "text": [
        "   year  deaths\n",
        "0  1946  299621\n",
        "1  1947  415334\n",
        "2  1948  487297\n",
        "3  1949  465304\n",
        "4  1950  596084"
       ]
      }
     ],
     "prompt_number": 140
    },
    {
     "cell_type": "code",
     "collapsed": false,
     "input": [
      "d_js.set_index('year').plot()\n",
      "mpld3.display()"
     ],
     "language": "python",
     "metadata": {},
     "outputs": [
      {
       "html": [
        "\n",
        "\n",
        "<style>\n",
        "\n",
        "</style>\n",
        "\n",
        "<div id=\"fig_el63564400440089677597507\"></div>\n",
        "<script>\n",
        "function mpld3_load_lib(url, callback){\n",
        "  var s = document.createElement('script');\n",
        "  s.src = url;\n",
        "  s.async = true;\n",
        "  s.onreadystatechange = s.onload = callback;\n",
        "  s.onerror = function(){console.warn(\"failed to load library \" + url);};\n",
        "  document.getElementsByTagName(\"head\")[0].appendChild(s);\n",
        "}\n",
        "\n",
        "if(typeof(mpld3) !== \"undefined\" && mpld3._mpld3IsLoaded){\n",
        "   // already loaded: just create the figure\n",
        "   !function(mpld3){\n",
        "       \n",
        "       mpld3.draw_figure(\"fig_el63564400440089677597507\", {\"axes\": [{\"xlim\": [1946.0, 2008.0], \"yscale\": \"linear\", \"axesbg\": \"#EAEAF2\", \"texts\": [{\"v_baseline\": \"hanging\", \"h_anchor\": \"middle\", \"color\": \"#262626\", \"text\": \"year\", \"coordinates\": \"axes\", \"zorder\": 3, \"alpha\": 1, \"fontsize\": 11.0, \"position\": [0.5, -0.066287878787878798], \"rotation\": -0.0, \"id\": \"el6356439917144\"}, {\"v_baseline\": \"auto\", \"h_anchor\": \"start\", \"color\": \"#262626\", \"text\": \"deaths\", \"coordinates\": \"axes\", \"zorder\": 1000003.0, \"alpha\": 1, \"fontsize\": 10.0, \"position\": [0.91431451612903236, 0.94886363636363646], \"rotation\": -0.0, \"id\": \"el6356440475776\"}], \"zoomable\": true, \"images\": [], \"xdomain\": [1946.0, 2008.0], \"ylim\": [0.0, 600000.0], \"paths\": [{\"edgecolor\": \"#FFFFFF\", \"facecolor\": \"#EAEAF2\", \"edgewidth\": 0.3, \"pathcodes\": [\"M\", \"L\", \"L\", \"L\", \"Z\"], \"yindex\": 1, \"coordinates\": \"axes\", \"dasharray\": \"10,0\", \"zorder\": 1000001.0, \"alpha\": 1.0, \"xindex\": 0, \"data\": \"data03\", \"id\": \"el6356440430264\"}], \"sharey\": [], \"sharex\": [], \"axesbgalpha\": null, \"axes\": [{\"scale\": \"linear\", \"tickformat\": null, \"grid\": {\"color\": \"#FFFFFF\", \"alpha\": 1.0, \"dasharray\": \"10,0\", \"gridOn\": true}, \"fontsize\": 10.0, \"position\": \"bottom\", \"nticks\": 8, \"tickvalues\": null}, {\"scale\": \"linear\", \"tickformat\": null, \"grid\": {\"color\": \"#FFFFFF\", \"alpha\": 1.0, \"dasharray\": \"10,0\", \"gridOn\": true}, \"fontsize\": 10.0, \"position\": \"left\", \"nticks\": 7, \"tickvalues\": null}], \"lines\": [{\"color\": \"#4C72B0\", \"yindex\": 1, \"coordinates\": \"data\", \"dasharray\": \"10,0\", \"zorder\": 2, \"alpha\": 1, \"xindex\": 0, \"linewidth\": 1.75, \"data\": \"data01\", \"id\": \"el6356440428640\"}, {\"color\": \"#4C72B0\", \"yindex\": 1, \"coordinates\": \"axes\", \"dasharray\": \"10,0\", \"zorder\": 1000002.0, \"alpha\": 1, \"xindex\": 0, \"linewidth\": 1.75, \"data\": \"data02\", \"id\": \"el6356440476560\"}], \"markers\": [], \"id\": \"el6356439998896\", \"ydomain\": [0.0, 600000.0], \"collections\": [], \"xscale\": \"linear\", \"bbox\": [0.125, 0.099999999999999978, 0.77500000000000002, 0.80000000000000004]}], \"height\": 440.0, \"width\": 640.0, \"plugins\": [{\"type\": \"reset\"}, {\"enabled\": false, \"button\": true, \"type\": \"zoom\"}, {\"enabled\": false, \"button\": true, \"type\": \"boxzoom\"}], \"data\": {\"data02\": [[0.8515905017921147, 0.9599116161616162], [0.8963933691756273, 0.9599116161616162]], \"data03\": [[0.8426299283154123, 0.9305555555555556], [0.9887992831541218, 0.9305555555555556], [0.9887992831541218, 0.9842171717171717], [0.8426299283154123, 0.9842171717171717]], \"data01\": [[1946.0, 299621.0], [1947.0, 415334.0], [1948.0, 487297.0], [1949.0, 465304.0], [1950.0, 596084.0], [1951.0, 404949.0], [1952.0, 154144.0], [1953.0, 103056.0], [1954.0, 72985.0], [1955.0, 35282.0], [1956.0, 43581.0], [1957.0, 35424.0], [1958.0, 51785.0], [1959.0, 55598.0], [1960.0, 153963.0], [1961.0, 173335.0], [1962.0, 85581.0], [1963.0, 87488.0], [1964.0, 91166.0], [1965.0, 126800.0], [1966.0, 124515.0], [1967.0, 155606.0], [1968.0, 266227.0], [1969.0, 230692.0], [1970.0, 242449.0], [1971.0, 379406.0], [1972.0, 319973.0], [1973.0, 242079.0], [1974.0, 280062.0], [1975.0, 153480.0], [1976.0, 121282.0], [1977.0, 60816.0], [1978.0, 117953.0], [1979.0, 169339.0], [1980.0, 142333.0], [1981.0, 217181.0], [1982.0, 269537.0], [1983.0, 251904.0], [1984.0, 268176.0], [1985.0, 241801.0], [1986.0, 251407.0], [1987.0, 210626.0], [1988.0, 267463.0], [1989.0, 86041.0], [1990.0, 96591.0], [1991.0, 154049.0], [1992.0, 101478.0], [1993.0, 104188.0], [1994.0, 88792.0], [1995.0, 77228.0], [1996.0, 56835.0], [1997.0, 46441.0], [1998.0, 99875.0], [1999.0, 134184.0], [2000.0, 92481.0], [2001.0, 78725.0], [2002.0, 27592.0], [2003.0, 35341.0], [2004.0, 38800.0], [2005.0, 38663.0], [2006.0, 58902.0], [2007.0, 63549.0], [2008.0, 49662.0]]}, \"id\": \"el6356440044008\"});\n",
        "   }(mpld3);\n",
        "}else if(typeof define === \"function\" && define.amd){\n",
        "   // require.js is available: use it to load d3/mpld3\n",
        "   require.config({paths: {d3: \"https://mpld3.github.io/js/d3.v3.min\"}});\n",
        "   require([\"d3\"], function(d3){\n",
        "      window.d3 = d3;\n",
        "      mpld3_load_lib(\"https://mpld3.github.io/js/mpld3.v0.2.js\", function(){\n",
        "         \n",
        "         mpld3.draw_figure(\"fig_el63564400440089677597507\", {\"axes\": [{\"xlim\": [1946.0, 2008.0], \"yscale\": \"linear\", \"axesbg\": \"#EAEAF2\", \"texts\": [{\"v_baseline\": \"hanging\", \"h_anchor\": \"middle\", \"color\": \"#262626\", \"text\": \"year\", \"coordinates\": \"axes\", \"zorder\": 3, \"alpha\": 1, \"fontsize\": 11.0, \"position\": [0.5, -0.066287878787878798], \"rotation\": -0.0, \"id\": \"el6356439917144\"}, {\"v_baseline\": \"auto\", \"h_anchor\": \"start\", \"color\": \"#262626\", \"text\": \"deaths\", \"coordinates\": \"axes\", \"zorder\": 1000003.0, \"alpha\": 1, \"fontsize\": 10.0, \"position\": [0.91431451612903236, 0.94886363636363646], \"rotation\": -0.0, \"id\": \"el6356440475776\"}], \"zoomable\": true, \"images\": [], \"xdomain\": [1946.0, 2008.0], \"ylim\": [0.0, 600000.0], \"paths\": [{\"edgecolor\": \"#FFFFFF\", \"facecolor\": \"#EAEAF2\", \"edgewidth\": 0.3, \"pathcodes\": [\"M\", \"L\", \"L\", \"L\", \"Z\"], \"yindex\": 1, \"coordinates\": \"axes\", \"dasharray\": \"10,0\", \"zorder\": 1000001.0, \"alpha\": 1.0, \"xindex\": 0, \"data\": \"data03\", \"id\": \"el6356440430264\"}], \"sharey\": [], \"sharex\": [], \"axesbgalpha\": null, \"axes\": [{\"scale\": \"linear\", \"tickformat\": null, \"grid\": {\"color\": \"#FFFFFF\", \"alpha\": 1.0, \"dasharray\": \"10,0\", \"gridOn\": true}, \"fontsize\": 10.0, \"position\": \"bottom\", \"nticks\": 8, \"tickvalues\": null}, {\"scale\": \"linear\", \"tickformat\": null, \"grid\": {\"color\": \"#FFFFFF\", \"alpha\": 1.0, \"dasharray\": \"10,0\", \"gridOn\": true}, \"fontsize\": 10.0, \"position\": \"left\", \"nticks\": 7, \"tickvalues\": null}], \"lines\": [{\"color\": \"#4C72B0\", \"yindex\": 1, \"coordinates\": \"data\", \"dasharray\": \"10,0\", \"zorder\": 2, \"alpha\": 1, \"xindex\": 0, \"linewidth\": 1.75, \"data\": \"data01\", \"id\": \"el6356440428640\"}, {\"color\": \"#4C72B0\", \"yindex\": 1, \"coordinates\": \"axes\", \"dasharray\": \"10,0\", \"zorder\": 1000002.0, \"alpha\": 1, \"xindex\": 0, \"linewidth\": 1.75, \"data\": \"data02\", \"id\": \"el6356440476560\"}], \"markers\": [], \"id\": \"el6356439998896\", \"ydomain\": [0.0, 600000.0], \"collections\": [], \"xscale\": \"linear\", \"bbox\": [0.125, 0.099999999999999978, 0.77500000000000002, 0.80000000000000004]}], \"height\": 440.0, \"width\": 640.0, \"plugins\": [{\"type\": \"reset\"}, {\"enabled\": false, \"button\": true, \"type\": \"zoom\"}, {\"enabled\": false, \"button\": true, \"type\": \"boxzoom\"}], \"data\": {\"data02\": [[0.8515905017921147, 0.9599116161616162], [0.8963933691756273, 0.9599116161616162]], \"data03\": [[0.8426299283154123, 0.9305555555555556], [0.9887992831541218, 0.9305555555555556], [0.9887992831541218, 0.9842171717171717], [0.8426299283154123, 0.9842171717171717]], \"data01\": [[1946.0, 299621.0], [1947.0, 415334.0], [1948.0, 487297.0], [1949.0, 465304.0], [1950.0, 596084.0], [1951.0, 404949.0], [1952.0, 154144.0], [1953.0, 103056.0], [1954.0, 72985.0], [1955.0, 35282.0], [1956.0, 43581.0], [1957.0, 35424.0], [1958.0, 51785.0], [1959.0, 55598.0], [1960.0, 153963.0], [1961.0, 173335.0], [1962.0, 85581.0], [1963.0, 87488.0], [1964.0, 91166.0], [1965.0, 126800.0], [1966.0, 124515.0], [1967.0, 155606.0], [1968.0, 266227.0], [1969.0, 230692.0], [1970.0, 242449.0], [1971.0, 379406.0], [1972.0, 319973.0], [1973.0, 242079.0], [1974.0, 280062.0], [1975.0, 153480.0], [1976.0, 121282.0], [1977.0, 60816.0], [1978.0, 117953.0], [1979.0, 169339.0], [1980.0, 142333.0], [1981.0, 217181.0], [1982.0, 269537.0], [1983.0, 251904.0], [1984.0, 268176.0], [1985.0, 241801.0], [1986.0, 251407.0], [1987.0, 210626.0], [1988.0, 267463.0], [1989.0, 86041.0], [1990.0, 96591.0], [1991.0, 154049.0], [1992.0, 101478.0], [1993.0, 104188.0], [1994.0, 88792.0], [1995.0, 77228.0], [1996.0, 56835.0], [1997.0, 46441.0], [1998.0, 99875.0], [1999.0, 134184.0], [2000.0, 92481.0], [2001.0, 78725.0], [2002.0, 27592.0], [2003.0, 35341.0], [2004.0, 38800.0], [2005.0, 38663.0], [2006.0, 58902.0], [2007.0, 63549.0], [2008.0, 49662.0]]}, \"id\": \"el6356440044008\"});\n",
        "      });\n",
        "    });\n",
        "}else{\n",
        "    // require.js not available: dynamically load d3 & mpld3\n",
        "    mpld3_load_lib(\"https://mpld3.github.io/js/d3.v3.min.js\", function(){\n",
        "         mpld3_load_lib(\"https://mpld3.github.io/js/mpld3.v0.2.js\", function(){\n",
        "                 \n",
        "                 mpld3.draw_figure(\"fig_el63564400440089677597507\", {\"axes\": [{\"xlim\": [1946.0, 2008.0], \"yscale\": \"linear\", \"axesbg\": \"#EAEAF2\", \"texts\": [{\"v_baseline\": \"hanging\", \"h_anchor\": \"middle\", \"color\": \"#262626\", \"text\": \"year\", \"coordinates\": \"axes\", \"zorder\": 3, \"alpha\": 1, \"fontsize\": 11.0, \"position\": [0.5, -0.066287878787878798], \"rotation\": -0.0, \"id\": \"el6356439917144\"}, {\"v_baseline\": \"auto\", \"h_anchor\": \"start\", \"color\": \"#262626\", \"text\": \"deaths\", \"coordinates\": \"axes\", \"zorder\": 1000003.0, \"alpha\": 1, \"fontsize\": 10.0, \"position\": [0.91431451612903236, 0.94886363636363646], \"rotation\": -0.0, \"id\": \"el6356440475776\"}], \"zoomable\": true, \"images\": [], \"xdomain\": [1946.0, 2008.0], \"ylim\": [0.0, 600000.0], \"paths\": [{\"edgecolor\": \"#FFFFFF\", \"facecolor\": \"#EAEAF2\", \"edgewidth\": 0.3, \"pathcodes\": [\"M\", \"L\", \"L\", \"L\", \"Z\"], \"yindex\": 1, \"coordinates\": \"axes\", \"dasharray\": \"10,0\", \"zorder\": 1000001.0, \"alpha\": 1.0, \"xindex\": 0, \"data\": \"data03\", \"id\": \"el6356440430264\"}], \"sharey\": [], \"sharex\": [], \"axesbgalpha\": null, \"axes\": [{\"scale\": \"linear\", \"tickformat\": null, \"grid\": {\"color\": \"#FFFFFF\", \"alpha\": 1.0, \"dasharray\": \"10,0\", \"gridOn\": true}, \"fontsize\": 10.0, \"position\": \"bottom\", \"nticks\": 8, \"tickvalues\": null}, {\"scale\": \"linear\", \"tickformat\": null, \"grid\": {\"color\": \"#FFFFFF\", \"alpha\": 1.0, \"dasharray\": \"10,0\", \"gridOn\": true}, \"fontsize\": 10.0, \"position\": \"left\", \"nticks\": 7, \"tickvalues\": null}], \"lines\": [{\"color\": \"#4C72B0\", \"yindex\": 1, \"coordinates\": \"data\", \"dasharray\": \"10,0\", \"zorder\": 2, \"alpha\": 1, \"xindex\": 0, \"linewidth\": 1.75, \"data\": \"data01\", \"id\": \"el6356440428640\"}, {\"color\": \"#4C72B0\", \"yindex\": 1, \"coordinates\": \"axes\", \"dasharray\": \"10,0\", \"zorder\": 1000002.0, \"alpha\": 1, \"xindex\": 0, \"linewidth\": 1.75, \"data\": \"data02\", \"id\": \"el6356440476560\"}], \"markers\": [], \"id\": \"el6356439998896\", \"ydomain\": [0.0, 600000.0], \"collections\": [], \"xscale\": \"linear\", \"bbox\": [0.125, 0.099999999999999978, 0.77500000000000002, 0.80000000000000004]}], \"height\": 440.0, \"width\": 640.0, \"plugins\": [{\"type\": \"reset\"}, {\"enabled\": false, \"button\": true, \"type\": \"zoom\"}, {\"enabled\": false, \"button\": true, \"type\": \"boxzoom\"}], \"data\": {\"data02\": [[0.8515905017921147, 0.9599116161616162], [0.8963933691756273, 0.9599116161616162]], \"data03\": [[0.8426299283154123, 0.9305555555555556], [0.9887992831541218, 0.9305555555555556], [0.9887992831541218, 0.9842171717171717], [0.8426299283154123, 0.9842171717171717]], \"data01\": [[1946.0, 299621.0], [1947.0, 415334.0], [1948.0, 487297.0], [1949.0, 465304.0], [1950.0, 596084.0], [1951.0, 404949.0], [1952.0, 154144.0], [1953.0, 103056.0], [1954.0, 72985.0], [1955.0, 35282.0], [1956.0, 43581.0], [1957.0, 35424.0], [1958.0, 51785.0], [1959.0, 55598.0], [1960.0, 153963.0], [1961.0, 173335.0], [1962.0, 85581.0], [1963.0, 87488.0], [1964.0, 91166.0], [1965.0, 126800.0], [1966.0, 124515.0], [1967.0, 155606.0], [1968.0, 266227.0], [1969.0, 230692.0], [1970.0, 242449.0], [1971.0, 379406.0], [1972.0, 319973.0], [1973.0, 242079.0], [1974.0, 280062.0], [1975.0, 153480.0], [1976.0, 121282.0], [1977.0, 60816.0], [1978.0, 117953.0], [1979.0, 169339.0], [1980.0, 142333.0], [1981.0, 217181.0], [1982.0, 269537.0], [1983.0, 251904.0], [1984.0, 268176.0], [1985.0, 241801.0], [1986.0, 251407.0], [1987.0, 210626.0], [1988.0, 267463.0], [1989.0, 86041.0], [1990.0, 96591.0], [1991.0, 154049.0], [1992.0, 101478.0], [1993.0, 104188.0], [1994.0, 88792.0], [1995.0, 77228.0], [1996.0, 56835.0], [1997.0, 46441.0], [1998.0, 99875.0], [1999.0, 134184.0], [2000.0, 92481.0], [2001.0, 78725.0], [2002.0, 27592.0], [2003.0, 35341.0], [2004.0, 38800.0], [2005.0, 38663.0], [2006.0, 58902.0], [2007.0, 63549.0], [2008.0, 49662.0]]}, \"id\": \"el6356440044008\"});\n",
        "            })\n",
        "         });\n",
        "}\n",
        "</script>"
       ],
       "metadata": {},
       "output_type": "pyout",
       "prompt_number": 143,
       "text": [
        "<IPython.core.display.HTML at 0x1a43de80>"
       ]
      }
     ],
     "prompt_number": 143
    },
    {
     "cell_type": "code",
     "collapsed": false,
     "input": [
      "d_js.to_json('./deaths.json',orient='records')"
     ],
     "language": "python",
     "metadata": {},
     "outputs": [],
     "prompt_number": 145
    },
    {
     "cell_type": "heading",
     "level": 1,
     "metadata": {},
     "source": [
      "Sites"
     ]
    },
    {
     "cell_type": "code",
     "collapsed": false,
     "input": [
      "sites_raw.Year.min()"
     ],
     "language": "python",
     "metadata": {},
     "outputs": [
      {
       "metadata": {},
       "output_type": "pyout",
       "prompt_number": 399,
       "text": [
        "1989"
       ]
      }
     ],
     "prompt_number": 399
    },
    {
     "cell_type": "code",
     "collapsed": false,
     "input": [
      "s = sites_raw[['Year','Latitude','Longitude','Radius','Conflict territory']]"
     ],
     "language": "python",
     "metadata": {},
     "outputs": [],
     "prompt_number": 164
    },
    {
     "cell_type": "code",
     "collapsed": false,
     "input": [
      "s.Year.min()"
     ],
     "language": "python",
     "metadata": {},
     "outputs": [
      {
       "metadata": {},
       "output_type": "pyout",
       "prompt_number": 397,
       "text": [
        "1989"
       ]
      }
     ],
     "prompt_number": 397
    },
    {
     "cell_type": "code",
     "collapsed": false,
     "input": [
      "s = s[s.Latitude != -888]"
     ],
     "language": "python",
     "metadata": {},
     "outputs": [],
     "prompt_number": 393
    },
    {
     "cell_type": "code",
     "collapsed": false,
     "input": [
      "s.to_json('./blips.json',orient='records')"
     ],
     "language": "python",
     "metadata": {},
     "outputs": [],
     "prompt_number": 395
    },
    {
     "cell_type": "heading",
     "level": 1,
     "metadata": {},
     "source": [
      "Countries at war at given year"
     ]
    },
    {
     "cell_type": "code",
     "collapsed": false,
     "input": [
      "w = main_raw[['SideA','SideB', 'StartDate', 'EpEndDate','YEAR','EpEnd']]"
     ],
     "language": "python",
     "metadata": {},
     "outputs": [],
     "prompt_number": 356
    },
    {
     "cell_type": "code",
     "collapsed": false,
     "input": [
      "years = w.sort('YEAR').YEAR.unique()"
     ],
     "language": "python",
     "metadata": {},
     "outputs": [],
     "prompt_number": 357
    },
    {
     "cell_type": "code",
     "collapsed": false,
     "input": [
      "mapped = set(pd.read_csv('../countries_on_the_map.csv',sep='\\n').Country)"
     ],
     "language": "python",
     "metadata": {},
     "outputs": [],
     "prompt_number": 358
    },
    {
     "cell_type": "code",
     "collapsed": false,
     "input": [
      "w.loc[w.SideA.isin(mapped).apply(lambda x: not x)].SideA.unique()"
     ],
     "language": "python",
     "metadata": {},
     "outputs": [
      {
       "metadata": {},
       "output_type": "pyout",
       "prompt_number": 359,
       "text": [
        "array([u'Russia (Soviet Union)', u'Hyderabad', u'North Yemen ',\n",
        "       u'South Vietnam', u'France, Israel, United Kingdom',\n",
        "       u'Democratic Republic of Congo (Zaire) ', u'North Vietnam',\n",
        "       u'Syria ', u'Sri Lanka (Ceylon)', u'Zimbabwe (Rhodesia)',\n",
        "       u'North Yemen', u'Turkey/Ottoman Empire', u'South Yemen',\n",
        "       u'Rumania', u'Yugoslavia (Serbia)', u'Yemen ', u'Cote D\\u2019Ivoire'], dtype=object)"
       ]
      }
     ],
     "prompt_number": 359
    },
    {
     "cell_type": "code",
     "collapsed": false,
     "input": [
      "w = w.replace('Russia (Soviet Union)', 'Russia')\n",
      "w = w.replace('Hyderabad', 'India')\n",
      "w = w.replace('North Yemen ', 'Yemen')\n",
      "w = w.replace('North Yemen', 'Yemen')\n",
      "w = w.replace('South Yemen ', 'Yemen')\n",
      "w = w.replace('South Yemen', 'Yemen')\n",
      "w = w.replace('Democratic Republic of Congo (Zaire) ', 'Congo')\n",
      "w = w.replace('North Vietnam', 'Vietnam')\n",
      "w = w.replace('South Vietnam', 'Vietnam')\n",
      "\n",
      "w = w.replace('Syria ','Syria')\n",
      "w = w.replace('Sri Lanka (Ceylon)','Sri Lanka')\n",
      "w = w.replace('Zimbabwe (Rhodesia)','Zimbabwe')\n",
      "w = w.replace('Rumania','Romania')\n",
      "\n",
      "\n",
      "w = w.replace('Turkey/Ottoman Empire','Turkey')\n",
      "w = w.replace('Yugoslavia (Serbia)','Serbia')\n",
      "w = w.replace('Yemen ','Yemen')"
     ],
     "language": "python",
     "metadata": {},
     "outputs": [],
     "prompt_number": 360
    },
    {
     "cell_type": "code",
     "collapsed": true,
     "input": [
      "result = \"\"\n",
      "result += '['\n",
      "\n",
      "for year in years:\n",
      "    result += '{' + '\"year\":' + str(year) + ','\n",
      "    result += '\"enemies\":' + w[w.YEAR == 2008][['SideA','SideB']].to_json(orient='records') + '},'\n",
      "\n",
      "result = result[:-1] + ']'\n",
      "\n",
      "f = open('./at_war.json', 'w')\n",
      "f.write(result.encode('utf-8'))\n",
      "f.close()"
     ],
     "language": "python",
     "metadata": {},
     "outputs": [],
     "prompt_number": 361
    },
    {
     "cell_type": "heading",
     "level": 1,
     "metadata": {},
     "source": [
      "Lat Long of capitals (from HW 2)"
     ]
    },
    {
     "cell_type": "code",
     "collapsed": false,
     "input": [
      "ll = pd.read_json('../countries_2012.json')"
     ],
     "language": "python",
     "metadata": {},
     "outputs": [],
     "prompt_number": 364
    },
    {
     "cell_type": "code",
     "collapsed": false,
     "input": [
      "ll.head()"
     ],
     "language": "python",
     "metadata": {},
     "outputs": [
      {
       "html": [
        "<div style=\"max-height:1000px;max-width:1500px;overflow:auto;\">\n",
        "<table border=\"1\" class=\"dataframe\">\n",
        "  <thead>\n",
        "    <tr style=\"text-align: right;\">\n",
        "      <th></th>\n",
        "      <th>alpha2_code</th>\n",
        "      <th>continent</th>\n",
        "      <th>gdp</th>\n",
        "      <th>latitude</th>\n",
        "      <th>life_expectancy</th>\n",
        "      <th>longitude</th>\n",
        "      <th>name</th>\n",
        "      <th>population</th>\n",
        "      <th>year</th>\n",
        "    </tr>\n",
        "  </thead>\n",
        "  <tbody>\n",
        "    <tr>\n",
        "      <th>0</th>\n",
        "      <td> ao</td>\n",
        "      <td>   Africa</td>\n",
        "      <td> 1.153321e+11</td>\n",
        "      <td> -8.81155</td>\n",
        "      <td> 51.464000</td>\n",
        "      <td>  13.2420</td>\n",
        "      <td>               Angola</td>\n",
        "      <td> 12104952</td>\n",
        "      <td> 2012</td>\n",
        "    </tr>\n",
        "    <tr>\n",
        "      <th>1</th>\n",
        "      <td> al</td>\n",
        "      <td>   Europe</td>\n",
        "      <td> 1.234453e+10</td>\n",
        "      <td> 41.33170</td>\n",
        "      <td> 77.350463</td>\n",
        "      <td>  19.8172</td>\n",
        "      <td>              Albania</td>\n",
        "      <td>  3357858</td>\n",
        "      <td> 2012</td>\n",
        "    </tr>\n",
        "    <tr>\n",
        "      <th>2</th>\n",
        "      <td> ae</td>\n",
        "      <td>     Asia</td>\n",
        "      <td> 3.837992e+11</td>\n",
        "      <td> 24.47640</td>\n",
        "      <td> 76.957878</td>\n",
        "      <td>  54.3705</td>\n",
        "      <td> United Arab Emirates</td>\n",
        "      <td>  2346305</td>\n",
        "      <td> 2012</td>\n",
        "    </tr>\n",
        "    <tr>\n",
        "      <th>3</th>\n",
        "      <td> ar</td>\n",
        "      <td> Americas</td>\n",
        "      <td> 6.031530e+11</td>\n",
        "      <td>-34.61180</td>\n",
        "      <td> 76.012683</td>\n",
        "      <td> -58.4173</td>\n",
        "      <td>            Argentina</td>\n",
        "      <td> 34833168</td>\n",
        "      <td> 2012</td>\n",
        "    </tr>\n",
        "    <tr>\n",
        "      <th>4</th>\n",
        "      <td> au</td>\n",
        "      <td>  Oceania</td>\n",
        "      <td> 1.532408e+12</td>\n",
        "      <td>-35.28200</td>\n",
        "      <td> 82.095122</td>\n",
        "      <td> 149.1290</td>\n",
        "      <td>            Australia</td>\n",
        "      <td> 18072000</td>\n",
        "      <td> 2012</td>\n",
        "    </tr>\n",
        "  </tbody>\n",
        "</table>\n",
        "</div>"
       ],
       "metadata": {},
       "output_type": "pyout",
       "prompt_number": 377,
       "text": [
        "  alpha2_code continent           gdp  latitude  life_expectancy  longitude  \\\n",
        "0          ao    Africa  1.153321e+11  -8.81155        51.464000    13.2420   \n",
        "1          al    Europe  1.234453e+10  41.33170        77.350463    19.8172   \n",
        "2          ae      Asia  3.837992e+11  24.47640        76.957878    54.3705   \n",
        "3          ar  Americas  6.031530e+11 -34.61180        76.012683   -58.4173   \n",
        "4          au   Oceania  1.532408e+12 -35.28200        82.095122   149.1290   \n",
        "\n",
        "                   name  population  year  \n",
        "0                Angola    12104952  2012  \n",
        "1               Albania     3357858  2012  \n",
        "2  United Arab Emirates     2346305  2012  \n",
        "3             Argentina    34833168  2012  \n",
        "4             Australia    18072000  2012  "
       ]
      }
     ],
     "prompt_number": 377
    },
    {
     "cell_type": "code",
     "collapsed": false,
     "input": [
      "ll.shape"
     ],
     "language": "python",
     "metadata": {},
     "outputs": [
      {
       "metadata": {},
       "output_type": "pyout",
       "prompt_number": 374,
       "text": [
        "(119, 9)"
       ]
      }
     ],
     "prompt_number": 374
    },
    {
     "cell_type": "code",
     "collapsed": false,
     "input": [
      "len(set(ll.name).intersection(mapped))"
     ],
     "language": "python",
     "metadata": {},
     "outputs": [
      {
       "metadata": {},
       "output_type": "pyout",
       "prompt_number": 373,
       "text": [
        "112"
       ]
      }
     ],
     "prompt_number": 373
    },
    {
     "cell_type": "code",
     "collapsed": false,
     "input": [
      "ll_mapped = ll.set_index('name').ix[list(set(ll.name).intersection(mapped))]\n",
      "\n",
      "ll_mapped[['latitude','longitude']].reset_index().to_json('../latlong.json',orient=\"records\")"
     ],
     "language": "python",
     "metadata": {},
     "outputs": [],
     "prompt_number": 389
    },
    {
     "cell_type": "code",
     "collapsed": false,
     "input": [],
     "language": "python",
     "metadata": {},
     "outputs": []
    }
   ],
   "metadata": {}
  }
 ]
}