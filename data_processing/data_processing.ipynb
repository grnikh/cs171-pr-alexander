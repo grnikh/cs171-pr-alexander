{
 "metadata": {
  "name": "",
  "signature": "sha256:7d8bb16606bd8846c53714e08e8781865a151243a384acfbe82fe3d28716a862"
 },
 "nbformat": 3,
 "nbformat_minor": 0,
 "worksheets": [
  {
   "cells": [
    {
     "cell_type": "code",
     "collapsed": false,
     "input": [
      "%autosave 60\n",
      "import pandas as pd\n",
      "import numpy as np\n",
      "import matplotlib.pyplot as plt, mpld3\n",
      "import seaborn as sns"
     ],
     "language": "python",
     "metadata": {},
     "outputs": [
      {
       "javascript": [
        "IPython.notebook.set_autosave_interval(60000)"
       ],
       "metadata": {},
       "output_type": "display_data"
      },
      {
       "output_type": "stream",
       "stream": "stdout",
       "text": [
        "Autosaving every 60 seconds\n"
       ]
      }
     ],
     "prompt_number": 240
    },
    {
     "cell_type": "heading",
     "level": 3,
     "metadata": {},
     "source": [
      "Import data"
     ]
    },
    {
     "cell_type": "code",
     "collapsed": false,
     "input": [
      "wars = pd.read_csv('./Inter-StateWarData_v4.0.csv',index_col=0)\n",
      "nmc_raw = pd.read_csv('./NMC_v4_0.csv',index_col=[1,2])\n",
      "nmc = nmc_raw[['cinc']]\n",
      "ccodes = pd.read_csv('./COW country codes.csv', index_col=1).drop_duplicates()"
     ],
     "language": "python",
     "metadata": {},
     "outputs": [],
     "prompt_number": 241
    },
    {
     "cell_type": "heading",
     "level": 3,
     "metadata": {},
     "source": [
      "Add useful fields"
     ]
    },
    {
     "cell_type": "code",
     "collapsed": false,
     "input": [
      "def get_cinc_ratio(warNum):\n",
      "    \n",
      "    year = wars.ix[warNum].StartYear1.irow(0)\n",
      "    initiator = wars.ix[warNum][wars.ix[warNum]['Initiator'] == 1]\n",
      "    defender = wars.ix[warNum][wars.ix[warNum]['Initiator'] == 2]\n",
      "    ratio = nmc.ix[initiator.ccode.irow(0)].ix[year][0] / nmc.ix[defender.ccode.irow(0)].ix[year][0]\n",
      "    return ratio\n",
      "\n",
      "wars['cinc_ratio'] = wars.index.to_series().apply(get_cinc_ratio)"
     ],
     "language": "python",
     "metadata": {},
     "outputs": [],
     "prompt_number": 3
    },
    {
     "cell_type": "code",
     "collapsed": false,
     "input": [
      "wars['StartDate'] = (wars.StartYear1.apply(str) + \"-\" + wars.StartMonth1.apply(str) + \"-\" + wars.StartDay1.apply(str)).apply(pd.Timestamp)\n",
      "wars['EndDate'] = (wars.EndYear1.apply(str) + \"-\" + wars.EndMonth1.apply(str) + \"-\" + wars.EndDay1.apply(str)).apply(pd.Timestamp)\n",
      "wars['length'] = (wars.EndDate - wars.StartDate).dt.days"
     ],
     "language": "python",
     "metadata": {},
     "outputs": [],
     "prompt_number": 4
    },
    {
     "cell_type": "heading",
     "level": 3,
     "metadata": {},
     "source": [
      "Preparing JSON for power ranking"
     ]
    },
    {
     "cell_type": "code",
     "collapsed": false,
     "input": [
      "nmc_n = nmc_raw.reset_index()\n",
      "nmc_n['name'] = nmc_n.apply(lambda x: ccodes.StateNme.ix[x.ccode],axis=1)"
     ],
     "language": "python",
     "metadata": {},
     "outputs": [],
     "prompt_number": 154
    },
    {
     "cell_type": "code",
     "collapsed": false,
     "input": [
      "# There are 2 Vietnams in the data, which can't be properly represented on the map. We only leave 1\n",
      "nmc_n = nmc_n.set_index('name').drop('Republic of Vietnam').reset_index()"
     ],
     "language": "python",
     "metadata": {},
     "outputs": [],
     "prompt_number": 155
    },
    {
     "cell_type": "code",
     "collapsed": false,
     "input": [
      "mapped = pd.read_csv('./countries_on_the_map.csv',sep='\\n').Country"
     ],
     "language": "python",
     "metadata": {},
     "outputs": [],
     "prompt_number": 156
    },
    {
     "cell_type": "code",
     "collapsed": false,
     "input": [
      "countries_on_the_map = set(nmc_n.name.unique()).intersection(set(mapped))\n",
      "data_on_the_map = nmc_n.set_index('name').ix[countries_on_the_map].reset_index()\n",
      "nmc_n = data_on_the_map[data_on_the_map.year > 1945]"
     ],
     "language": "python",
     "metadata": {},
     "outputs": [],
     "prompt_number": 157
    },
    {
     "cell_type": "code",
     "collapsed": false,
     "input": [
      "js = nmc_n.set_index(['year'])[['stateabb','name','cinc']]\n",
      "def countries(year):\n",
      "    return js.loc[year].to_json(orient='records')"
     ],
     "language": "python",
     "metadata": {},
     "outputs": [],
     "prompt_number": 158
    },
    {
     "cell_type": "code",
     "collapsed": false,
     "input": [
      "result = '['\n",
      "for ind in js.index.unique():\n",
      "    result = result + '{\"year\":' + str(ind) + ',\"countries\":' + countries(ind) + \"},\\n\"\n",
      "result = result[:-2] + ']'"
     ],
     "language": "python",
     "metadata": {},
     "outputs": [],
     "prompt_number": 159
    },
    {
     "cell_type": "code",
     "collapsed": false,
     "input": [
      "f = open('./power_rank.json', 'w')\n",
      "f.write(result)\n",
      "f.close()"
     ],
     "language": "python",
     "metadata": {},
     "outputs": [],
     "prompt_number": 160
    },
    {
     "cell_type": "code",
     "collapsed": false,
     "input": [
      "nmc_n.name.unique()"
     ],
     "language": "python",
     "metadata": {},
     "outputs": [
      {
       "metadata": {},
       "output_type": "pyout",
       "prompt_number": 177,
       "text": [
        "array(['Canada', 'Sao Tome and Principe', 'Turkmenistan', 'Montenegro',\n",
        "       'Lithuania', 'Cambodia', 'Ethiopia', 'Swaziland', 'Argentina',\n",
        "       'Bolivia', 'Cameroon', 'Burkina Faso', 'Ghana', 'Saudi Arabia',\n",
        "       'Cape Verde', 'Slovenia', 'Guatemala', 'Bosnia and Herzegovina',\n",
        "       'Guinea', 'Germany', 'Dominica', 'Liberia', 'Netherlands',\n",
        "       'Paraguay', 'Pakistan', 'Oman', 'Tanzania', 'Gabon', 'Monaco',\n",
        "       'Bahamas', 'New Zealand', 'Yemen', 'Jamaica', 'Albania', 'Samoa',\n",
        "       'United Arab Emirates', 'India', 'Azerbaijan', 'Madagascar',\n",
        "       'Lesotho', 'Cyprus', 'Tajikistan', 'Turkey', 'Afghanistan',\n",
        "       'Czech Republic', 'Mauritania', 'Solomon Islands', 'San Marino',\n",
        "       'Mongolia', 'France', 'Rwanda', 'Slovakia', 'Somalia', 'Peru',\n",
        "       'Vanuatu', 'Nauru', 'Norway', 'Malawi', 'Benin',\n",
        "       'Federated States of Micronesia', 'Cuba',\n",
        "       'United States of America', 'Togo', 'China', 'Armenia',\n",
        "       'Dominican Republic', 'Ukraine', 'Bahrain', 'Tonga', 'Indonesia',\n",
        "       'Libya', 'Finland', 'Central African Republic', 'Mauritius',\n",
        "       'Liechtenstein', 'Vietnam', 'Mali', 'Russia', 'Bulgaria', 'Romania',\n",
        "       'Angola', 'Portugal', 'South Africa', 'Nicaragua', 'Sweden',\n",
        "       'Malaysia', 'Austria', 'Mozambique', 'Uganda', 'Japan', 'Niger',\n",
        "       'Brazil', 'Kuwait', 'Panama', 'Guyana', 'Costa Rica', 'Luxembourg',\n",
        "       'Andorra', 'Ireland', 'Italy', 'Nigeria', 'Ecuador', 'Bangladesh',\n",
        "       'Australia', 'Iran', 'Algeria', 'El Salvador', 'Marshall Islands',\n",
        "       'Chile', 'Belgium', 'Thailand', 'Haiti', 'Belize', 'Sierra Leone',\n",
        "       'Georgia', 'Denmark', 'Poland', 'Moldova', 'Morocco', 'Croatia',\n",
        "       'Guinea-Bissau', 'Kiribati', 'Switzerland', 'Grenada', 'Seychelles',\n",
        "       'Chad', 'Estonia', 'Uruguay', 'Mexico', 'Lebanon', 'Uzbekistan',\n",
        "       'Tunisia', 'Djibouti', 'Spain', 'Colombia', 'Burundi', 'Fiji',\n",
        "       'Barbados', 'Qatar', 'Palau', 'Bhutan', 'Kenya', 'Sudan', 'Nepal',\n",
        "       'Malta', 'Maldives', 'Suriname', 'Venezuela', 'Israel', 'Iceland',\n",
        "       'Zambia', 'Senegal', 'Papua New Guinea', 'Zimbabwe', 'Jordan',\n",
        "       'Gambia', 'Kazakhstan', 'Philippines', 'Eritrea', 'Kyrgyzstan',\n",
        "       'Iraq', 'Macedonia', 'North Korea', 'Trinidad and Tobago', 'Latvia',\n",
        "       'Hungary', 'Belarus', 'Honduras', 'Myanmar', 'Equatorial Guinea',\n",
        "       'Egypt', 'Singapore', 'Comoros', 'United Kingdom', 'Congo',\n",
        "       'Greece', 'Sri Lanka', 'Namibia', 'Botswana'], dtype=object)"
       ]
      }
     ],
     "prompt_number": 177
    },
    {
     "cell_type": "heading",
     "level": 1,
     "metadata": {},
     "source": [
      "milex"
     ]
    },
    {
     "cell_type": "code",
     "collapsed": false,
     "input": [
      "# Pakistan 0 in 1947? how is that possible? There was Indo-Pakistani war in 1947\n",
      "milex = nmc_n[['milex','year','name']]\n",
      "milex.loc[(milex.milex == -9),'milex'] = 0"
     ],
     "language": "python",
     "metadata": {},
     "outputs": [],
     "prompt_number": 162
    },
    {
     "cell_type": "code",
     "collapsed": false,
     "input": [
      "years = milex.sort('year',inplace=False).year.unique()\n",
      "expenses_js = pd.DataFrame(index=years, columns=['milex'])\n",
      "for year in years:\n",
      "    expenses_js.ix[year] = milex[milex.year == year].milex.sum()*1000"
     ],
     "language": "python",
     "metadata": {},
     "outputs": [],
     "prompt_number": 173
    },
    {
     "cell_type": "code",
     "collapsed": false,
     "input": [
      "expenses_js.reset_index().to_json('./milex.json',orient='records') # in $"
     ],
     "language": "python",
     "metadata": {},
     "outputs": [],
     "prompt_number": 174
    },
    {
     "cell_type": "heading",
     "level": 1,
     "metadata": {},
     "source": [
      "Alliances"
     ]
    },
    {
     "cell_type": "code",
     "collapsed": false,
     "input": [
      "alliance_raw = pd.read_csv('./cow_alliances/version4.1_csv/alliance_v4.1_by_dyad_yearly.csv')\n",
      "\n",
      "cols = ['defense','neutrality','nonaggression','entente','year','state_name1','state_name2']\n",
      "a = alliance_raw[cols]"
     ],
     "language": "python",
     "metadata": {},
     "outputs": [],
     "prompt_number": 269
    },
    {
     "cell_type": "code",
     "collapsed": false,
     "input": [
      "a = a[a.year > 1945]"
     ],
     "language": "python",
     "metadata": {},
     "outputs": [],
     "prompt_number": 270
    },
    {
     "cell_type": "code",
     "collapsed": false,
     "input": [
      "a = a[a.state_name1.isin(mapped)]\n",
      "a = a[a.state_name2.isin(mapped)]\n",
      "a = a.drop_duplicates()"
     ],
     "language": "python",
     "metadata": {},
     "outputs": [],
     "prompt_number": 271
    },
    {
     "cell_type": "code",
     "collapsed": false,
     "input": [
      "a.head()"
     ],
     "language": "python",
     "metadata": {},
     "outputs": [
      {
       "html": [
        "<div style=\"max-height:1000px;max-width:1500px;overflow:auto;\">\n",
        "<table border=\"1\" class=\"dataframe\">\n",
        "  <thead>\n",
        "    <tr style=\"text-align: right;\">\n",
        "      <th></th>\n",
        "      <th>defense</th>\n",
        "      <th>neutrality</th>\n",
        "      <th>nonaggression</th>\n",
        "      <th>entente</th>\n",
        "      <th>year</th>\n",
        "      <th>state_name1</th>\n",
        "      <th>state_name2</th>\n",
        "    </tr>\n",
        "  </thead>\n",
        "  <tbody>\n",
        "    <tr>\n",
        "      <th>130</th>\n",
        "      <td> 1</td>\n",
        "      <td> 0</td>\n",
        "      <td> 1</td>\n",
        "      <td> 0</td>\n",
        "      <td> 1946</td>\n",
        "      <td> United Kingdom</td>\n",
        "      <td> Portugal</td>\n",
        "    </tr>\n",
        "    <tr>\n",
        "      <th>131</th>\n",
        "      <td> 1</td>\n",
        "      <td> 0</td>\n",
        "      <td> 1</td>\n",
        "      <td> 0</td>\n",
        "      <td> 1947</td>\n",
        "      <td> United Kingdom</td>\n",
        "      <td> Portugal</td>\n",
        "    </tr>\n",
        "    <tr>\n",
        "      <th>132</th>\n",
        "      <td> 1</td>\n",
        "      <td> 0</td>\n",
        "      <td> 1</td>\n",
        "      <td> 0</td>\n",
        "      <td> 1948</td>\n",
        "      <td> United Kingdom</td>\n",
        "      <td> Portugal</td>\n",
        "    </tr>\n",
        "    <tr>\n",
        "      <th>133</th>\n",
        "      <td> 1</td>\n",
        "      <td> 0</td>\n",
        "      <td> 1</td>\n",
        "      <td> 0</td>\n",
        "      <td> 1949</td>\n",
        "      <td> United Kingdom</td>\n",
        "      <td> Portugal</td>\n",
        "    </tr>\n",
        "    <tr>\n",
        "      <th>134</th>\n",
        "      <td> 1</td>\n",
        "      <td> 0</td>\n",
        "      <td> 1</td>\n",
        "      <td> 0</td>\n",
        "      <td> 1950</td>\n",
        "      <td> United Kingdom</td>\n",
        "      <td> Portugal</td>\n",
        "    </tr>\n",
        "  </tbody>\n",
        "</table>\n",
        "</div>"
       ],
       "metadata": {},
       "output_type": "pyout",
       "prompt_number": 272,
       "text": [
        "     defense  neutrality  nonaggression  entente  year     state_name1  \\\n",
        "130        1           0              1        0  1946  United Kingdom   \n",
        "131        1           0              1        0  1947  United Kingdom   \n",
        "132        1           0              1        0  1948  United Kingdom   \n",
        "133        1           0              1        0  1949  United Kingdom   \n",
        "134        1           0              1        0  1950  United Kingdom   \n",
        "\n",
        "    state_name2  \n",
        "130    Portugal  \n",
        "131    Portugal  \n",
        "132    Portugal  \n",
        "133    Portugal  \n",
        "134    Portugal  "
       ]
      }
     ],
     "prompt_number": 272
    },
    {
     "cell_type": "code",
     "collapsed": true,
     "input": [
      "types = [\"defense\",\"neutrality\",\"nonaggression\",\"entente\"]\n",
      "\n",
      "final = pd.DataFrame(columns=['year','state_name1','state_name2','kind'], index=[0])\n",
      "\n",
      "for t in types:\n",
      "    df = a[a[t] == 1][['year','state_name1','state_name2']]\n",
      "    df['kind'] = t\n",
      "    final = pd.concat([final,df])\n",
      "\n",
      "final = final.drop_duplicates()"
     ],
     "language": "python",
     "metadata": {},
     "outputs": [],
     "prompt_number": 273
    },
    {
     "cell_type": "code",
     "collapsed": false,
     "input": [
      "years = final.sort('year').year.unique()\n",
      "\n",
      "result = \"\"\n",
      "result += '['\n",
      "\n",
      "for year in years:\n",
      "    result += '{' + '\"year\":' + str(year) + ','\n",
      "    result += '\"alliances\":' + final.set_index('year').ix[year].to_json(orient='records') + '},'\n",
      "\n",
      "result = result[:-1] + ']'\n",
      "\n",
      "f = open('./alliances.json', 'w')\n",
      "f.write(result.encode('utf-8'))\n",
      "f.close()"
     ],
     "language": "python",
     "metadata": {},
     "outputs": [],
     "prompt_number": 274
    },
    {
     "cell_type": "raw",
     "metadata": {},
     "source": [
      "# for test\n",
      "years = [2002,2003]\n",
      "\n",
      "result = \"\"\n",
      "result += '['\n",
      "\n",
      "for year in years:\n",
      "    result += '{' + '\"year\":' + str(year) + ','\n",
      "    result += '\"alliances\":' + final.set_index('year').ix[year].to_json(orient='records') + '},'\n",
      "\n",
      "result = result[:-1] + ']'\n",
      "\n",
      "print result"
     ]
    },
    {
     "cell_type": "code",
     "collapsed": false,
     "input": [],
     "language": "python",
     "metadata": {},
     "outputs": []
    }
   ],
   "metadata": {}
  }
 ]
}