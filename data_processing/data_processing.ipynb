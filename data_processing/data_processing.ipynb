{
 "metadata": {
  "name": "",
  "signature": "sha256:308567da0f1f4a4fd79706dd78c2f4bb9320b35bd0d33e806ce06db2aa607a28"
 },
 "nbformat": 3,
 "nbformat_minor": 0,
 "worksheets": [
  {
   "cells": [
    {
     "cell_type": "code",
     "collapsed": false,
     "input": [
      "%autosave 60\n",
      "import pandas as pd\n",
      "import numpy as np\n",
      "import matplotlib.pyplot as plt, mpld3\n",
      "import seaborn as sns"
     ],
     "language": "python",
     "metadata": {},
     "outputs": [
      {
       "javascript": [
        "IPython.notebook.set_autosave_interval(60000)"
       ],
       "metadata": {},
       "output_type": "display_data"
      },
      {
       "output_type": "stream",
       "stream": "stdout",
       "text": [
        "Autosaving every 60 seconds\n"
       ]
      }
     ],
     "prompt_number": 1
    },
    {
     "cell_type": "heading",
     "level": 3,
     "metadata": {},
     "source": [
      "Import data"
     ]
    },
    {
     "cell_type": "code",
     "collapsed": false,
     "input": [
      "wars = pd.read_csv('./Inter-StateWarData_v4.0.csv',index_col=0)\n",
      "nmc_raw = pd.read_csv('./NMC_v4_0.csv',index_col=[1,2])\n",
      "nmc = nmc_raw[['cinc']]\n",
      "ccodes = pd.read_csv('./COW country codes.csv', index_col=1).drop_duplicates()"
     ],
     "language": "python",
     "metadata": {},
     "outputs": [],
     "prompt_number": 2
    },
    {
     "cell_type": "heading",
     "level": 3,
     "metadata": {},
     "source": [
      "Add useful fields"
     ]
    },
    {
     "cell_type": "code",
     "collapsed": false,
     "input": [
      "def get_cinc_ratio(warNum):\n",
      "    \n",
      "    year = wars.ix[warNum].StartYear1.irow(0)\n",
      "    initiator = wars.ix[warNum][wars.ix[warNum]['Initiator'] == 1]\n",
      "    defender = wars.ix[warNum][wars.ix[warNum]['Initiator'] == 2]\n",
      "    ratio = nmc.ix[initiator.ccode.irow(0)].ix[year][0] / nmc.ix[defender.ccode.irow(0)].ix[year][0]\n",
      "    return ratio\n",
      "\n",
      "wars['cinc_ratio'] = wars.index.to_series().apply(get_cinc_ratio)"
     ],
     "language": "python",
     "metadata": {},
     "outputs": [],
     "prompt_number": 3
    },
    {
     "cell_type": "code",
     "collapsed": false,
     "input": [
      "wars['StartDate'] = (wars.StartYear1.apply(str) + \"-\" + wars.StartMonth1.apply(str) + \"-\" + wars.StartDay1.apply(str)).apply(pd.Timestamp)\n",
      "wars['EndDate'] = (wars.EndYear1.apply(str) + \"-\" + wars.EndMonth1.apply(str) + \"-\" + wars.EndDay1.apply(str)).apply(pd.Timestamp)\n",
      "wars['length'] = (wars.EndDate - wars.StartDate).dt.days"
     ],
     "language": "python",
     "metadata": {},
     "outputs": [],
     "prompt_number": 4
    },
    {
     "cell_type": "heading",
     "level": 3,
     "metadata": {},
     "source": [
      "Preparing JSON for power ranking"
     ]
    },
    {
     "cell_type": "code",
     "collapsed": false,
     "input": [
      "nmc_n = nmc_raw.reset_index()\n",
      "nmc_n['name'] = nmc_n.apply(lambda x: ccodes.StateNme.ix[x.ccode],axis=1)"
     ],
     "language": "python",
     "metadata": {},
     "outputs": [],
     "prompt_number": 98
    },
    {
     "cell_type": "code",
     "collapsed": false,
     "input": [
      "# There are 2 Vietnams in the data, which can't be properly represented on the map. We only leave 1\n",
      "nmc_n = nmc_n.set_index('name').drop('Republic of Vietnam').reset_index()"
     ],
     "language": "python",
     "metadata": {},
     "outputs": [],
     "prompt_number": 107
    },
    {
     "cell_type": "code",
     "collapsed": false,
     "input": [
      "mapped = pd.read_csv('./countries_on_the_map.csv',sep='\\n').Country"
     ],
     "language": "python",
     "metadata": {},
     "outputs": [],
     "prompt_number": 108
    },
    {
     "cell_type": "code",
     "collapsed": false,
     "input": [
      "countries_on_the_map = set(nmc_n.name.unique()).intersection(set(mapped))\n",
      "data_on_the_map = nmc_n.set_index('name').ix[countries_on_the_map].reset_index()\n",
      "nmc_n = data_on_the_map[data_on_the_map.year > 1945]"
     ],
     "language": "python",
     "metadata": {},
     "outputs": [],
     "prompt_number": 109
    },
    {
     "cell_type": "code",
     "collapsed": false,
     "input": [
      "js = nmc_n.set_index(['year'])[['stateabb','name','cinc']]\n",
      "def countries(year):\n",
      "    return js.loc[year].to_json(orient='records')"
     ],
     "language": "python",
     "metadata": {},
     "outputs": [],
     "prompt_number": 110
    },
    {
     "cell_type": "code",
     "collapsed": false,
     "input": [
      "result = '['\n",
      "for ind in js.index.unique():\n",
      "    result = result + '{\"year\":' + str(ind) + ',\"countries\":' + countries(ind) + \"},\\n\"\n",
      "result = result[:-2] + ']'"
     ],
     "language": "python",
     "metadata": {},
     "outputs": [],
     "prompt_number": 111
    },
    {
     "cell_type": "code",
     "collapsed": false,
     "input": [
      "f = open('./power_rank.json', 'w')\n",
      "f.write(result)\n",
      "f.close()"
     ],
     "language": "python",
     "metadata": {},
     "outputs": [],
     "prompt_number": 112
    },
    {
     "cell_type": "heading",
     "level": 1,
     "metadata": {},
     "source": [
      "milex"
     ]
    },
    {
     "cell_type": "code",
     "collapsed": false,
     "input": [
      "# Pakistan 0 in 1947? how is that possible? There was Indo-Pakistani war in 1947\n",
      "milex = nmc_n[['milex','year','name']]\n",
      "milex.loc[(milex.milex == -9),'milex'] = 0"
     ],
     "language": "python",
     "metadata": {},
     "outputs": [],
     "prompt_number": 113
    },
    {
     "cell_type": "heading",
     "level": 1,
     "metadata": {},
     "source": [
      "Alliances"
     ]
    },
    {
     "cell_type": "code",
     "collapsed": false,
     "input": [
      "alliance_raw = pd.read_csv('./cow_alliances/version4.1_csv/alliance_v4.1_by_dyad_yearly.csv')\n",
      "\n",
      "cols = ['left_censor','right_censor','defense','neutrality','nonaggression','entente','year','state_name1','state_name2']\n",
      "a = alliance_raw[cols]"
     ],
     "language": "python",
     "metadata": {},
     "outputs": [],
     "prompt_number": 18
    },
    {
     "cell_type": "code",
     "collapsed": false,
     "input": [
      "a = a[a.year > 1945]"
     ],
     "language": "python",
     "metadata": {},
     "outputs": [],
     "prompt_number": 20
    },
    {
     "cell_type": "code",
     "collapsed": false,
     "input": [
      "a.state_name2.unique()"
     ],
     "language": "python",
     "metadata": {},
     "outputs": [
      {
       "metadata": {},
       "output_type": "pyout",
       "prompt_number": 23,
       "text": [
        "array(['Portugal', 'Bolivia', 'Afghanistan', 'Iraq', 'Yemen Arab Republic',\n",
        "       'Russia', 'Mongolia', 'Saudi Arabia', 'Egypt', 'Turkey', 'Paraguay',\n",
        "       'Venezuela', 'Iran', 'New Zealand', 'Cuba', 'Haiti',\n",
        "       'Dominican Republic', 'Mexico', 'Guatemala', 'Honduras',\n",
        "       'Nicaragua', 'Costa Rica', 'Panama', 'Colombia', 'Ecuador', 'Peru',\n",
        "       'Brazil', 'Chile', 'Argentina', 'Uruguay', 'Somalia', 'Djibouti',\n",
        "       'Morocco', 'Algeria', 'Tunisia', 'Libya', 'Sudan', 'Syria',\n",
        "       'Lebanon', 'Jordan', 'Yemen', \"Yemen People's Republic\", 'Kuwait',\n",
        "       'Bahrain', 'Qatar', 'United Arab Emirates', 'Oman', 'China',\n",
        "       'Yugoslavia', 'France', 'Czechoslovakia', 'Canada', 'Bahamas',\n",
        "       'Jamaica', 'Trinidad and Tobago', 'Barbados', 'Dominica', 'Grenada',\n",
        "       'St. Lucia', 'St. Vincent and the Grenadines', 'Antigua & Barbuda',\n",
        "       'St. Kitts and Nevis', 'Belize', 'El Salvador', 'Guyana',\n",
        "       'Suriname', 'Bulgaria', 'Romania', 'Netherlands', 'Belgium',\n",
        "       'Luxembourg', 'Spain', 'German Federal Republic', 'Italy', 'Greece',\n",
        "       'Finland', 'Hungary', 'United Kingdom', 'Germany', 'Poland',\n",
        "       'Czech Republic', 'Norway', 'Denmark', 'Iceland', 'Philippines',\n",
        "       'Australia', 'Japan', 'South Korea', 'Pakistan', 'Thailand',\n",
        "       'Taiwan', 'Albania', 'Israel', 'Malaysia', 'Liberia', 'Myanmar',\n",
        "       'Central African Republic', 'Chad', 'Congo', 'Cyprus', 'Gabon',\n",
        "       'Cambodia', 'Guinea', 'Ghana', 'North Korea', 'Benin', 'Mauritania',\n",
        "       'Niger', 'Ivory Coast', 'Burkina Faso', 'Togo', 'Cameroon',\n",
        "       'Rwanda', 'Madagascar', 'India', 'Vietnam', 'Republic of Vietnam',\n",
        "       'Ethiopia', 'Burundi', 'Mauritius', 'Bangladesh', 'Angola',\n",
        "       'Mozambique', 'Guinea-Bissau', 'Gambia', 'Mali', 'Senegal',\n",
        "       'Sierra Leone', 'Nigeria', 'Zambia', 'Malta', 'Swaziland',\n",
        "       'South Africa', 'Ukraine', 'Belarus', 'Armenia', 'Georgia',\n",
        "       'Azerbaijan', 'Turkmenistan', 'Tajikistan', 'Kyrgyzstan',\n",
        "       'Uzbekistan', 'Kazakhstan', 'Latvia', 'Estonia',\n",
        "       'Bosnia and Herzegovina', 'Slovakia', 'Lithuania', 'Moldova',\n",
        "       'Democratic Republic of the Congo', 'Zimbabwe', 'Namibia',\n",
        "       'Equatorial Guinea', 'Eritrea', 'Uganda', 'Kenya', 'Tanzania',\n",
        "       'South Sudan'], dtype=object)"
       ]
      }
     ],
     "prompt_number": 23
    },
    {
     "cell_type": "code",
     "collapsed": false,
     "input": [],
     "language": "python",
     "metadata": {},
     "outputs": [],
     "prompt_number": 34
    },
    {
     "cell_type": "code",
     "collapsed": false,
     "input": [],
     "language": "python",
     "metadata": {},
     "outputs": []
    }
   ],
   "metadata": {}
  }
 ]
}